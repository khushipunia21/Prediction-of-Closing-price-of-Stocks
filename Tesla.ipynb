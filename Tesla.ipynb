{
  "nbformat": 4,
  "nbformat_minor": 0,
  "metadata": {
    "colab": {
      "name": "Tesla.ipynb",
      "provenance": [],
      "collapsed_sections": []
    },
    "kernelspec": {
      "name": "python3",
      "display_name": "Python 3"
    },
    "language_info": {
      "name": "python"
    }
  },
  "cells": [
    {
      "cell_type": "code",
      "metadata": {
        "colab": {
          "base_uri": "https://localhost:8080/"
        },
        "id": "z1pI3xXcV1Lt",
        "outputId": "ba4df3e9-27d4-442e-e41a-52082bb43f16"
      },
      "source": [
        "import pandas as pd\n",
        "\n",
        "import datetime\n",
        "\n",
        "import numpy as np\n",
        "\n",
        "import matplotlib.pyplot as plt\n",
        "\n",
        "from pandas.plotting import scatter_matrix\n",
        "\n",
        "!pip install yfinance\n",
        "\n",
        "import yfinance as yf\n",
        "\n",
        "%matplotlib inline\n",
        "from sklearn import preprocessing\n",
        "from sklearn import metrics\n",
        "from sklearn.model_selection import train_test_split\n",
        "from sklearn.linear_model import LinearRegression"
      ],
      "execution_count": null,
      "outputs": [
        {
          "output_type": "stream",
          "text": [
            "Requirement already satisfied: yfinance in /usr/local/lib/python3.7/dist-packages (0.1.63)\n",
            "Requirement already satisfied: lxml>=4.5.1 in /usr/local/lib/python3.7/dist-packages (from yfinance) (4.6.3)\n",
            "Requirement already satisfied: multitasking>=0.0.7 in /usr/local/lib/python3.7/dist-packages (from yfinance) (0.0.9)\n",
            "Requirement already satisfied: numpy>=1.15 in /usr/local/lib/python3.7/dist-packages (from yfinance) (1.19.5)\n",
            "Requirement already satisfied: requests>=2.20 in /usr/local/lib/python3.7/dist-packages (from yfinance) (2.23.0)\n",
            "Requirement already satisfied: pandas>=0.24 in /usr/local/lib/python3.7/dist-packages (from yfinance) (1.1.5)\n",
            "Requirement already satisfied: pytz>=2017.2 in /usr/local/lib/python3.7/dist-packages (from pandas>=0.24->yfinance) (2018.9)\n",
            "Requirement already satisfied: python-dateutil>=2.7.3 in /usr/local/lib/python3.7/dist-packages (from pandas>=0.24->yfinance) (2.8.2)\n",
            "Requirement already satisfied: six>=1.5 in /usr/local/lib/python3.7/dist-packages (from python-dateutil>=2.7.3->pandas>=0.24->yfinance) (1.15.0)\n",
            "Requirement already satisfied: idna<3,>=2.5 in /usr/local/lib/python3.7/dist-packages (from requests>=2.20->yfinance) (2.10)\n",
            "Requirement already satisfied: chardet<4,>=3.0.2 in /usr/local/lib/python3.7/dist-packages (from requests>=2.20->yfinance) (3.0.4)\n",
            "Requirement already satisfied: certifi>=2017.4.17 in /usr/local/lib/python3.7/dist-packages (from requests>=2.20->yfinance) (2021.5.30)\n",
            "Requirement already satisfied: urllib3!=1.25.0,!=1.25.1,<1.26,>=1.21.1 in /usr/local/lib/python3.7/dist-packages (from requests>=2.20->yfinance) (1.24.3)\n"
          ],
          "name": "stdout"
        }
      ]
    },
    {
      "cell_type": "code",
      "metadata": {
        "colab": {
          "base_uri": "https://localhost:8080/"
        },
        "id": "GJ692Hpbaj6S",
        "outputId": "db0caa1d-5f1f-438b-bdd4-c35c49cc7c78"
      },
      "source": [
        "start = \"2015-01-01\"\n",
        "end = '2020-01-01'\n",
        "tcs = yf.download('TCS',start,end)\n",
        "wipro = yf.download('WIPRO.NS',start,end)"
      ],
      "execution_count": null,
      "outputs": [
        {
          "output_type": "stream",
          "text": [
            "[*********************100%***********************]  1 of 1 completed\n",
            "[*********************100%***********************]  1 of 1 completed\n"
          ],
          "name": "stdout"
        }
      ]
    },
    {
      "cell_type": "code",
      "metadata": {
        "colab": {
          "base_uri": "https://localhost:8080/",
          "height": 234
        },
        "id": "a96dJn7bazxc",
        "outputId": "44ef705d-e550-4205-92bd-1bdde2780851"
      },
      "source": [
        "tcs.head()"
      ],
      "execution_count": null,
      "outputs": [
        {
          "output_type": "execute_result",
          "data": {
            "text/html": [
              "<div>\n",
              "<style scoped>\n",
              "    .dataframe tbody tr th:only-of-type {\n",
              "        vertical-align: middle;\n",
              "    }\n",
              "\n",
              "    .dataframe tbody tr th {\n",
              "        vertical-align: top;\n",
              "    }\n",
              "\n",
              "    .dataframe thead th {\n",
              "        text-align: right;\n",
              "    }\n",
              "</style>\n",
              "<table border=\"1\" class=\"dataframe\">\n",
              "  <thead>\n",
              "    <tr style=\"text-align: right;\">\n",
              "      <th></th>\n",
              "      <th>Open</th>\n",
              "      <th>High</th>\n",
              "      <th>Low</th>\n",
              "      <th>Close</th>\n",
              "      <th>Adj Close</th>\n",
              "      <th>Volume</th>\n",
              "    </tr>\n",
              "    <tr>\n",
              "      <th>Date</th>\n",
              "      <th></th>\n",
              "      <th></th>\n",
              "      <th></th>\n",
              "      <th></th>\n",
              "      <th></th>\n",
              "      <th></th>\n",
              "    </tr>\n",
              "  </thead>\n",
              "  <tbody>\n",
              "    <tr>\n",
              "      <th>2015-01-02</th>\n",
              "      <td>19.290001</td>\n",
              "      <td>19.770000</td>\n",
              "      <td>18.990000</td>\n",
              "      <td>19.379999</td>\n",
              "      <td>18.116087</td>\n",
              "      <td>280800</td>\n",
              "    </tr>\n",
              "    <tr>\n",
              "      <th>2015-01-05</th>\n",
              "      <td>19.110001</td>\n",
              "      <td>19.180000</td>\n",
              "      <td>18.129999</td>\n",
              "      <td>18.320000</td>\n",
              "      <td>17.125217</td>\n",
              "      <td>565300</td>\n",
              "    </tr>\n",
              "    <tr>\n",
              "      <th>2015-01-06</th>\n",
              "      <td>18.389999</td>\n",
              "      <td>18.690001</td>\n",
              "      <td>17.530001</td>\n",
              "      <td>18.480000</td>\n",
              "      <td>17.274782</td>\n",
              "      <td>457700</td>\n",
              "    </tr>\n",
              "    <tr>\n",
              "      <th>2015-01-07</th>\n",
              "      <td>18.629999</td>\n",
              "      <td>20.450001</td>\n",
              "      <td>18.629999</td>\n",
              "      <td>20.340000</td>\n",
              "      <td>19.013479</td>\n",
              "      <td>679600</td>\n",
              "    </tr>\n",
              "    <tr>\n",
              "      <th>2015-01-08</th>\n",
              "      <td>20.700001</td>\n",
              "      <td>21.680000</td>\n",
              "      <td>19.510000</td>\n",
              "      <td>21.209999</td>\n",
              "      <td>19.826738</td>\n",
              "      <td>1113300</td>\n",
              "    </tr>\n",
              "  </tbody>\n",
              "</table>\n",
              "</div>"
            ],
            "text/plain": [
              "                 Open       High        Low      Close  Adj Close   Volume\n",
              "Date                                                                      \n",
              "2015-01-02  19.290001  19.770000  18.990000  19.379999  18.116087   280800\n",
              "2015-01-05  19.110001  19.180000  18.129999  18.320000  17.125217   565300\n",
              "2015-01-06  18.389999  18.690001  17.530001  18.480000  17.274782   457700\n",
              "2015-01-07  18.629999  20.450001  18.629999  20.340000  19.013479   679600\n",
              "2015-01-08  20.700001  21.680000  19.510000  21.209999  19.826738  1113300"
            ]
          },
          "metadata": {},
          "execution_count": 6
        }
      ]
    },
    {
      "cell_type": "code",
      "metadata": {
        "id": "HAll11w-a8kb"
      },
      "source": [
        "X = tcs[['High','Low','Open','Volume']].values\n",
        "y = tcs['Close'].values"
      ],
      "execution_count": null,
      "outputs": []
    },
    {
      "cell_type": "code",
      "metadata": {
        "colab": {
          "base_uri": "https://localhost:8080/"
        },
        "id": "T-LhFxdRfr1f",
        "outputId": "369aeef3-f09a-4a6d-bc7b-46b0f102a466"
      },
      "source": [
        "X"
      ],
      "execution_count": null,
      "outputs": [
        {
          "output_type": "execute_result",
          "data": {
            "text/plain": [
              "array([[1.97700005e+01, 1.89899998e+01, 1.92900009e+01, 2.80800000e+05],\n",
              "       [1.91800003e+01, 1.81299992e+01, 1.91100006e+01, 5.65300000e+05],\n",
              "       [1.86900005e+01, 1.75300007e+01, 1.83899994e+01, 4.57700000e+05],\n",
              "       ...,\n",
              "       [4.55000019e+00, 4.28999996e+00, 4.51999998e+00, 1.96000000e+05],\n",
              "       [4.34000015e+00, 4.15999985e+00, 4.26999998e+00, 1.59700000e+05],\n",
              "       [4.26000023e+00, 4.13999987e+00, 4.15999985e+00, 2.32500000e+05]])"
            ]
          },
          "metadata": {},
          "execution_count": 8
        }
      ]
    },
    {
      "cell_type": "code",
      "metadata": {
        "id": "_ebjMoiKbeYk"
      },
      "source": [
        "X_train, X_test, y_train, y_test = train_test_split(X,y, test_size=0.2, random_state=1)"
      ],
      "execution_count": null,
      "outputs": []
    },
    {
      "cell_type": "code",
      "metadata": {
        "id": "kAzvus-sbipV"
      },
      "source": [
        "lc=LinearRegression()"
      ],
      "execution_count": null,
      "outputs": []
    },
    {
      "cell_type": "code",
      "metadata": {
        "colab": {
          "base_uri": "https://localhost:8080/"
        },
        "id": "9s5zb681b3Qy",
        "outputId": "0e1de5b4-b832-4b32-ad8b-f301a77ab5da"
      },
      "source": [
        "lc.fit(X_train, y_train)"
      ],
      "execution_count": null,
      "outputs": [
        {
          "output_type": "execute_result",
          "data": {
            "text/plain": [
              "LinearRegression(copy_X=True, fit_intercept=True, n_jobs=None, normalize=False)"
            ]
          },
          "metadata": {},
          "execution_count": 11
        }
      ]
    },
    {
      "cell_type": "code",
      "metadata": {
        "id": "J63qmJlQb7Vb"
      },
      "source": [
        "predicted = lc.predict(X_test)"
      ],
      "execution_count": null,
      "outputs": []
    },
    {
      "cell_type": "code",
      "metadata": {
        "colab": {
          "base_uri": "https://localhost:8080/"
        },
        "id": "yS7h4KyIcHxk",
        "outputId": "c765ddc9-e15e-4ddd-d04c-6621015d76e4"
      },
      "source": [
        "predicted"
      ],
      "execution_count": null,
      "outputs": [
        {
          "output_type": "execute_result",
          "data": {
            "text/plain": [
              "array([ 5.35013917, 11.47350092,  5.68900312,  3.92721901,  9.50421255,\n",
              "       17.26679244,  8.43486713, 17.21399587,  4.44437069,  4.66868459,\n",
              "        4.18632959, 17.28395894,  6.85422521,  9.77052744,  8.94637125,\n",
              "        4.26310797,  4.17557167,  4.29474916,  4.82058611,  5.57725904,\n",
              "        7.69806767,  8.87273563,  5.64813762, 10.30186662,  3.95497973,\n",
              "        5.21827003,  5.16877788,  5.1202968 ,  5.8850077 ,  7.86917122,\n",
              "       11.32885502,  4.94052471,  8.30461113, 21.57632814, 17.76570013,\n",
              "        6.18778335,  4.74956202,  5.77799021,  5.86450559,  5.96004187,\n",
              "        5.16120901,  8.65263685, 14.2517185 ,  6.75013197,  5.64116008,\n",
              "        4.96457879,  6.51631314,  5.89171071,  4.84652523,  6.17534016,\n",
              "        8.32768419, 12.37886559,  5.29397531,  4.72903672,  6.67332246,\n",
              "        4.07434336, 18.74479435, 18.49740832, 17.94426463,  5.33976756,\n",
              "        9.79110028,  4.95421879, 19.21511798,  7.03131218,  7.39693194,\n",
              "       21.80066316,  6.01157808,  4.23730983,  4.30171244,  5.82523578,\n",
              "        7.74457195,  5.3865842 ,  4.13182639,  4.14075828, 16.3945387 ,\n",
              "        7.16918345,  4.86510171, 18.84354106, 15.72959962,  5.85141087,\n",
              "       11.2694062 , 16.78648891,  4.00169719,  7.19265616,  7.52661324,\n",
              "        5.32943514,  7.06024168,  6.78851968,  4.86991792,  6.29934961,\n",
              "        5.55810272,  6.02368489,  4.40794924,  7.3767099 ,  4.00199921,\n",
              "        4.32129214, 12.11934676,  5.7713152 , 15.21945384, 19.15752391,\n",
              "        6.09944388,  8.57597122,  4.70071019,  6.12335059,  4.03962191,\n",
              "        8.41714665,  5.00493435,  4.0484809 ,  6.57741309,  5.35094202,\n",
              "        4.76898141, 11.58792997,  6.6406906 ,  5.99418873,  5.00233555,\n",
              "       12.55704814,  5.06621412,  5.30296798,  4.91869101, 17.96830712,\n",
              "        5.2297923 , 15.42387235,  4.39272857, 10.0063632 ,  7.99382866,\n",
              "        6.21847584, 18.39289392,  6.71946764,  5.57647644,  6.37217206,\n",
              "        4.96518264, 11.00507075,  4.00368157,  4.38229449,  6.0210274 ,\n",
              "       19.71064658, 12.27410261,  5.27302915,  4.62554169, 17.33048662,\n",
              "        5.60851221,  5.38620191,  4.25084826, 16.80317064,  8.39192073,\n",
              "        4.03070657,  6.27240159,  4.34848693,  5.87502352, 16.67497261,\n",
              "        3.94606148,  5.08121564, 16.67443673,  4.85892261,  3.7732743 ,\n",
              "        4.892555  , 17.5483425 ,  5.56800629,  6.65957131, 21.12393716,\n",
              "        5.75803779, 19.10324507,  5.22645043,  4.18381141,  6.67509351,\n",
              "       10.85605704,  5.27784741, 18.63470992,  5.85735774,  3.95418627,\n",
              "       18.84378339,  3.9074725 ,  7.87805089,  5.21552262, 10.98371647,\n",
              "        8.86474702, 17.34458863,  4.10264995,  5.94504567,  4.05553462,\n",
              "        7.50424548,  7.94105941,  4.26382276, 17.26110579,  5.32602925,\n",
              "       17.45386607,  7.7752626 ,  4.86842046, 17.36087205, 10.17039187,\n",
              "        4.16819958,  4.29821649,  5.68946264, 18.59945447, 15.96228714,\n",
              "        8.26567079,  5.65724673,  3.70126649, 10.2801409 , 19.96599445,\n",
              "        7.79934476,  4.1754443 ,  4.73359257, 12.08661996,  7.09986335,\n",
              "        5.79093637, 18.49436968,  5.62028463,  5.68252173,  8.26059029,\n",
              "        6.30061566,  9.91955047,  5.74259041,  4.11448744,  3.91254081,\n",
              "        8.20634202, 13.5516276 , 14.7844699 , 12.33105789,  3.66788014,\n",
              "        4.39951609, 10.61680113,  5.46560746,  6.9266379 ,  4.79991278,\n",
              "        5.8202039 ,  4.47029477, 18.35461009, 11.32322936,  5.41468519,\n",
              "        5.43136852,  4.18073693, 18.07583981,  7.07172932,  7.647215  ,\n",
              "        7.76976421, 16.41675427,  4.33768511,  5.97430082,  4.79832235,\n",
              "       16.82356329, 11.19255017,  4.59053891,  4.97664056,  6.8574693 ,\n",
              "       21.63404168, 10.21193236,  4.40518069, 11.05130277,  4.53821249,\n",
              "       10.28178851, 18.90819983])"
            ]
          },
          "metadata": {},
          "execution_count": 13
        }
      ]
    },
    {
      "cell_type": "code",
      "metadata": {
        "id": "zW5ZiFA8cJ5N"
      },
      "source": [
        "data1 = pd.DataFrame({'Actual': y_test.flatten(), 'Predicted' : predicted.flatten()})"
      ],
      "execution_count": null,
      "outputs": []
    },
    {
      "cell_type": "code",
      "metadata": {
        "colab": {
          "base_uri": "https://localhost:8080/",
          "height": 665
        },
        "id": "WzvoEseucR-H",
        "outputId": "40c0ed05-6c7c-4919-d49c-3c37fdc6c2af"
      },
      "source": [
        "data1.head(20)"
      ],
      "execution_count": null,
      "outputs": [
        {
          "output_type": "execute_result",
          "data": {
            "text/html": [
              "<div>\n",
              "<style scoped>\n",
              "    .dataframe tbody tr th:only-of-type {\n",
              "        vertical-align: middle;\n",
              "    }\n",
              "\n",
              "    .dataframe tbody tr th {\n",
              "        vertical-align: top;\n",
              "    }\n",
              "\n",
              "    .dataframe thead th {\n",
              "        text-align: right;\n",
              "    }\n",
              "</style>\n",
              "<table border=\"1\" class=\"dataframe\">\n",
              "  <thead>\n",
              "    <tr style=\"text-align: right;\">\n",
              "      <th></th>\n",
              "      <th>Actual</th>\n",
              "      <th>Predicted</th>\n",
              "    </tr>\n",
              "  </thead>\n",
              "  <tbody>\n",
              "    <tr>\n",
              "      <th>0</th>\n",
              "      <td>5.380000</td>\n",
              "      <td>5.350139</td>\n",
              "    </tr>\n",
              "    <tr>\n",
              "      <th>1</th>\n",
              "      <td>11.380000</td>\n",
              "      <td>11.473501</td>\n",
              "    </tr>\n",
              "    <tr>\n",
              "      <th>2</th>\n",
              "      <td>5.590000</td>\n",
              "      <td>5.689003</td>\n",
              "    </tr>\n",
              "    <tr>\n",
              "      <th>3</th>\n",
              "      <td>3.960000</td>\n",
              "      <td>3.927219</td>\n",
              "    </tr>\n",
              "    <tr>\n",
              "      <th>4</th>\n",
              "      <td>9.570000</td>\n",
              "      <td>9.504213</td>\n",
              "    </tr>\n",
              "    <tr>\n",
              "      <th>5</th>\n",
              "      <td>17.139999</td>\n",
              "      <td>17.266792</td>\n",
              "    </tr>\n",
              "    <tr>\n",
              "      <th>6</th>\n",
              "      <td>8.330000</td>\n",
              "      <td>8.434867</td>\n",
              "    </tr>\n",
              "    <tr>\n",
              "      <th>7</th>\n",
              "      <td>16.910000</td>\n",
              "      <td>17.213996</td>\n",
              "    </tr>\n",
              "    <tr>\n",
              "      <th>8</th>\n",
              "      <td>4.350000</td>\n",
              "      <td>4.444371</td>\n",
              "    </tr>\n",
              "    <tr>\n",
              "      <th>9</th>\n",
              "      <td>4.620000</td>\n",
              "      <td>4.668685</td>\n",
              "    </tr>\n",
              "    <tr>\n",
              "      <th>10</th>\n",
              "      <td>4.220000</td>\n",
              "      <td>4.186330</td>\n",
              "    </tr>\n",
              "    <tr>\n",
              "      <th>11</th>\n",
              "      <td>16.950001</td>\n",
              "      <td>17.283959</td>\n",
              "    </tr>\n",
              "    <tr>\n",
              "      <th>12</th>\n",
              "      <td>6.760000</td>\n",
              "      <td>6.854225</td>\n",
              "    </tr>\n",
              "    <tr>\n",
              "      <th>13</th>\n",
              "      <td>9.690000</td>\n",
              "      <td>9.770527</td>\n",
              "    </tr>\n",
              "    <tr>\n",
              "      <th>14</th>\n",
              "      <td>8.880000</td>\n",
              "      <td>8.946371</td>\n",
              "    </tr>\n",
              "    <tr>\n",
              "      <th>15</th>\n",
              "      <td>4.270000</td>\n",
              "      <td>4.263108</td>\n",
              "    </tr>\n",
              "    <tr>\n",
              "      <th>16</th>\n",
              "      <td>4.160000</td>\n",
              "      <td>4.175572</td>\n",
              "    </tr>\n",
              "    <tr>\n",
              "      <th>17</th>\n",
              "      <td>4.310000</td>\n",
              "      <td>4.294749</td>\n",
              "    </tr>\n",
              "    <tr>\n",
              "      <th>18</th>\n",
              "      <td>4.860000</td>\n",
              "      <td>4.820586</td>\n",
              "    </tr>\n",
              "    <tr>\n",
              "      <th>19</th>\n",
              "      <td>5.620000</td>\n",
              "      <td>5.577259</td>\n",
              "    </tr>\n",
              "  </tbody>\n",
              "</table>\n",
              "</div>"
            ],
            "text/plain": [
              "       Actual  Predicted\n",
              "0    5.380000   5.350139\n",
              "1   11.380000  11.473501\n",
              "2    5.590000   5.689003\n",
              "3    3.960000   3.927219\n",
              "4    9.570000   9.504213\n",
              "5   17.139999  17.266792\n",
              "6    8.330000   8.434867\n",
              "7   16.910000  17.213996\n",
              "8    4.350000   4.444371\n",
              "9    4.620000   4.668685\n",
              "10   4.220000   4.186330\n",
              "11  16.950001  17.283959\n",
              "12   6.760000   6.854225\n",
              "13   9.690000   9.770527\n",
              "14   8.880000   8.946371\n",
              "15   4.270000   4.263108\n",
              "16   4.160000   4.175572\n",
              "17   4.310000   4.294749\n",
              "18   4.860000   4.820586\n",
              "19   5.620000   5.577259"
            ]
          },
          "metadata": {},
          "execution_count": 15
        }
      ]
    },
    {
      "cell_type": "code",
      "metadata": {
        "colab": {
          "base_uri": "https://localhost:8080/"
        },
        "id": "ZiLK7TTicVvV",
        "outputId": "474fa6d7-18f4-46b0-a170-8c0046c52078"
      },
      "source": [
        "import math\n",
        "print('Mean Absolute Error:', metrics.mean_absolute_error(y_test,predicted))\n",
        "print('Mean Squared Error:', metrics.mean_squared_error(y_test,predicted))\n",
        "print('Root Mean Squared Error:', math.sqrt(metrics.mean_squared_error(y_test,predicted)))"
      ],
      "execution_count": null,
      "outputs": [
        {
          "output_type": "stream",
          "text": [
            "Mean Absolute Error: 0.0962737729764703\n",
            "Mean Squared Error: 0.023015181149744164\n",
            "Root Mean Squared Error: 0.15170755139327827\n"
          ],
          "name": "stdout"
        }
      ]
    },
    {
      "cell_type": "code",
      "metadata": {
        "id": "D3Nwu8_Ucczq"
      },
      "source": [
        "graph = data1.head(20)"
      ],
      "execution_count": null,
      "outputs": []
    },
    {
      "cell_type": "code",
      "metadata": {
        "colab": {
          "base_uri": "https://localhost:8080/",
          "height": 285
        },
        "id": "Sq3xyMUbdIYa",
        "outputId": "c6cf2c94-a241-46d4-8ab9-45a440549e00"
      },
      "source": [
        "graph.plot(kind='bar')"
      ],
      "execution_count": null,
      "outputs": [
        {
          "output_type": "execute_result",
          "data": {
            "text/plain": [
              "<matplotlib.axes._subplots.AxesSubplot at 0x7fd42027fd90>"
            ]
          },
          "metadata": {},
          "execution_count": 18
        },
        {
          "output_type": "display_data",
          "data": {
            "image/png": "[encoded data removed]",
            "text/plain": [
              "<Figure size 432x288 with 1 Axes>"
            ]
          },
          "metadata": {
            "needs_background": "light"
          }
        }
      ]
    },
    {
      "cell_type": "code",
      "metadata": {
        "id": "x_qW6IWj42eC"
      },
      "source": [
        "hi=input(\"Enter the maximum price of the share today: \")\n",
        "lo=input(\"Enter the close price at which the stock is traded today: \")\n",
        "op=input(\"Enter the open price at which the stock is traded today: \")\n",
        "vol=input(\"Enter number of shares sold that day: \")"
      ],
      "execution_count": null,
      "outputs": []
    },
    {
      "cell_type": "code",
      "metadata": {
        "id": "Fm3rZPKE4v2b"
      },
      "source": [
        "inp=([[hi,lo,op,vol]])"
      ],
      "execution_count": null,
      "outputs": []
    },
    {
      "cell_type": "code",
      "metadata": {
        "id": "WQycxoniWsRG"
      },
      "source": [
        "output=lc.predict(inp)"
      ],
      "execution_count": null,
      "outputs": []
    },
    {
      "cell_type": "code",
      "metadata": {
        "id": "F56zYbtF4jeB"
      },
      "source": [
        ""
      ],
      "execution_count": null,
      "outputs": []
    }
  ]
}