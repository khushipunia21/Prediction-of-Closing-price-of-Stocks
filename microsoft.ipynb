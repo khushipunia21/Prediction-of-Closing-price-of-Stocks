{
  "nbformat": 4,
  "nbformat_minor": 0,
  "metadata": {
    "colab": {
      "name": "microsoft.ipynb",
      "provenance": []
    },
    "kernelspec": {
      "name": "python3",
      "display_name": "Python 3"
    },
    "language_info": {
      "name": "python"
    }
  },
  "cells": [
    {
      "cell_type": "code",
      "metadata": {
        "colab": {
          "base_uri": "https://localhost:8080/"
        },
        "id": "uTe8WXab5zRS",
        "outputId": "2f847218-6da4-4c85-9e0c-38c289c730c1"
      },
      "source": [
        "import pandas as pd\n",
        "\n",
        "import datetime\n",
        "\n",
        "import numpy as np\n",
        "\n",
        "import matplotlib.pyplot as plt\n",
        "\n",
        "from pandas.plotting import scatter_matrix\n",
        "\n",
        "!pip install yfinance\n",
        "\n",
        "import yfinance as yf\n",
        "\n",
        "%matplotlib inline\n",
        "from sklearn import preprocessing\n",
        "from sklearn import metrics\n",
        "from sklearn.model_selection import train_test_split\n",
        "from sklearn.linear_model import LinearRegression"
      ],
      "execution_count": 1,
      "outputs": [
        {
          "output_type": "stream",
          "text": [
            "Collecting yfinance\n",
            "  Downloading yfinance-0.1.63.tar.gz (26 kB)\n",
            "Requirement already satisfied: pandas>=0.24 in /usr/local/lib/python3.7/dist-packages (from yfinance) (1.1.5)\n",
            "Requirement already satisfied: numpy>=1.15 in /usr/local/lib/python3.7/dist-packages (from yfinance) (1.19.5)\n",
            "Requirement already satisfied: requests>=2.20 in /usr/local/lib/python3.7/dist-packages (from yfinance) (2.23.0)\n",
            "Requirement already satisfied: multitasking>=0.0.7 in /usr/local/lib/python3.7/dist-packages (from yfinance) (0.0.9)\n",
            "Collecting lxml>=4.5.1\n",
            "  Downloading lxml-4.6.3-cp37-cp37m-manylinux2014_x86_64.whl (6.3 MB)\n",
            "\u001b[K     |████████████████████████████████| 6.3 MB 7.5 MB/s \n",
            "\u001b[?25hRequirement already satisfied: pytz>=2017.2 in /usr/local/lib/python3.7/dist-packages (from pandas>=0.24->yfinance) (2018.9)\n",
            "Requirement already satisfied: python-dateutil>=2.7.3 in /usr/local/lib/python3.7/dist-packages (from pandas>=0.24->yfinance) (2.8.2)\n",
            "Requirement already satisfied: six>=1.5 in /usr/local/lib/python3.7/dist-packages (from python-dateutil>=2.7.3->pandas>=0.24->yfinance) (1.15.0)\n",
            "Requirement already satisfied: certifi>=2017.4.17 in /usr/local/lib/python3.7/dist-packages (from requests>=2.20->yfinance) (2021.5.30)\n",
            "Requirement already satisfied: chardet<4,>=3.0.2 in /usr/local/lib/python3.7/dist-packages (from requests>=2.20->yfinance) (3.0.4)\n",
            "Requirement already satisfied: idna<3,>=2.5 in /usr/local/lib/python3.7/dist-packages (from requests>=2.20->yfinance) (2.10)\n",
            "Requirement already satisfied: urllib3!=1.25.0,!=1.25.1,<1.26,>=1.21.1 in /usr/local/lib/python3.7/dist-packages (from requests>=2.20->yfinance) (1.24.3)\n",
            "Building wheels for collected packages: yfinance\n",
            "  Building wheel for yfinance (setup.py) ... \u001b[?25l\u001b[?25hdone\n",
            "  Created wheel for yfinance: filename=yfinance-0.1.63-py2.py3-none-any.whl size=23918 sha256=92e790a2815372f06fbeef7a1d0aa6fe8cb1aeccb88975ad53b2d97d358a8ead\n",
            "  Stored in directory: /root/.cache/pip/wheels/fe/87/8b/7ec24486e001d3926537f5f7801f57a74d181be25b11157983\n",
            "Successfully built yfinance\n",
            "Installing collected packages: lxml, yfinance\n",
            "  Attempting uninstall: lxml\n",
            "    Found existing installation: lxml 4.2.6\n",
            "    Uninstalling lxml-4.2.6:\n",
            "      Successfully uninstalled lxml-4.2.6\n",
            "Successfully installed lxml-4.6.3 yfinance-0.1.63\n"
          ],
          "name": "stdout"
        }
      ]
    },
    {
      "cell_type": "code",
      "metadata": {
        "colab": {
          "base_uri": "https://localhost:8080/"
        },
        "id": "_66DiRp55zy_",
        "outputId": "03c875e4-bf95-4856-b00e-1b672aab6e54"
      },
      "source": [
        "start = \"2015-01-01\"\n",
        "end = '2021-07-01'\n",
        "microsoft=yf.download('msft',start,end)"
      ],
      "execution_count": 17,
      "outputs": [
        {
          "output_type": "stream",
          "text": [
            "\r[*********************100%***********************]  1 of 1 completed\n"
          ],
          "name": "stdout"
        }
      ]
    },
    {
      "cell_type": "code",
      "metadata": {
        "colab": {
          "base_uri": "https://localhost:8080/",
          "height": 234
        },
        "id": "MujpNmiD51eq",
        "outputId": "8ff51abf-4bde-4225-d89c-1bd006c16a9d"
      },
      "source": [
        "microsoft.head()"
      ],
      "execution_count": 18,
      "outputs": [
        {
          "output_type": "execute_result",
          "data": {
            "text/html": [
              "<div>\n",
              "<style scoped>\n",
              "    .dataframe tbody tr th:only-of-type {\n",
              "        vertical-align: middle;\n",
              "    }\n",
              "\n",
              "    .dataframe tbody tr th {\n",
              "        vertical-align: top;\n",
              "    }\n",
              "\n",
              "    .dataframe thead th {\n",
              "        text-align: right;\n",
              "    }\n",
              "</style>\n",
              "<table border=\"1\" class=\"dataframe\">\n",
              "  <thead>\n",
              "    <tr style=\"text-align: right;\">\n",
              "      <th></th>\n",
              "      <th>Open</th>\n",
              "      <th>High</th>\n",
              "      <th>Low</th>\n",
              "      <th>Close</th>\n",
              "      <th>Adj Close</th>\n",
              "      <th>Volume</th>\n",
              "    </tr>\n",
              "    <tr>\n",
              "      <th>Date</th>\n",
              "      <th></th>\n",
              "      <th></th>\n",
              "      <th></th>\n",
              "      <th></th>\n",
              "      <th></th>\n",
              "      <th></th>\n",
              "    </tr>\n",
              "  </thead>\n",
              "  <tbody>\n",
              "    <tr>\n",
              "      <th>2015-01-02</th>\n",
              "      <td>46.660000</td>\n",
              "      <td>47.419998</td>\n",
              "      <td>46.540001</td>\n",
              "      <td>46.759998</td>\n",
              "      <td>41.269203</td>\n",
              "      <td>27913900</td>\n",
              "    </tr>\n",
              "    <tr>\n",
              "      <th>2015-01-05</th>\n",
              "      <td>46.369999</td>\n",
              "      <td>46.730000</td>\n",
              "      <td>46.250000</td>\n",
              "      <td>46.330002</td>\n",
              "      <td>40.889702</td>\n",
              "      <td>39673900</td>\n",
              "    </tr>\n",
              "    <tr>\n",
              "      <th>2015-01-06</th>\n",
              "      <td>46.380001</td>\n",
              "      <td>46.750000</td>\n",
              "      <td>45.540001</td>\n",
              "      <td>45.650002</td>\n",
              "      <td>40.289543</td>\n",
              "      <td>36447900</td>\n",
              "    </tr>\n",
              "    <tr>\n",
              "      <th>2015-01-07</th>\n",
              "      <td>45.980000</td>\n",
              "      <td>46.459999</td>\n",
              "      <td>45.490002</td>\n",
              "      <td>46.230000</td>\n",
              "      <td>40.801434</td>\n",
              "      <td>29114100</td>\n",
              "    </tr>\n",
              "    <tr>\n",
              "      <th>2015-01-08</th>\n",
              "      <td>46.750000</td>\n",
              "      <td>47.750000</td>\n",
              "      <td>46.720001</td>\n",
              "      <td>47.590000</td>\n",
              "      <td>42.001743</td>\n",
              "      <td>29645200</td>\n",
              "    </tr>\n",
              "  </tbody>\n",
              "</table>\n",
              "</div>"
            ],
            "text/plain": [
              "                 Open       High        Low      Close  Adj Close    Volume\n",
              "Date                                                                       \n",
              "2015-01-02  46.660000  47.419998  46.540001  46.759998  41.269203  27913900\n",
              "2015-01-05  46.369999  46.730000  46.250000  46.330002  40.889702  39673900\n",
              "2015-01-06  46.380001  46.750000  45.540001  45.650002  40.289543  36447900\n",
              "2015-01-07  45.980000  46.459999  45.490002  46.230000  40.801434  29114100\n",
              "2015-01-08  46.750000  47.750000  46.720001  47.590000  42.001743  29645200"
            ]
          },
          "metadata": {},
          "execution_count": 18
        }
      ]
    },
    {
      "cell_type": "code",
      "metadata": {
        "id": "a5zc3onb57u9"
      },
      "source": [
        "x = microsoft[['High','Low','Open','Volume']].values\n",
        "y = microsoft['Close'].values"
      ],
      "execution_count": 19,
      "outputs": []
    },
    {
      "cell_type": "code",
      "metadata": {
        "colab": {
          "base_uri": "https://localhost:8080/"
        },
        "id": "9qCcUcEs5_iO",
        "outputId": "49ccc2da-4d67-4424-99fe-53b8a3b3c0c4"
      },
      "source": [
        "x_train,x_test,y_train,y_test=train_test_split(x,y,test_size=0.2,random_state=1)\n",
        "lc=LinearRegression()\n",
        "lc.fit(x_train,y_train)"
      ],
      "execution_count": 20,
      "outputs": [
        {
          "output_type": "execute_result",
          "data": {
            "text/plain": [
              "LinearRegression(copy_X=True, fit_intercept=True, n_jobs=None, normalize=False)"
            ]
          },
          "metadata": {},
          "execution_count": 20
        }
      ]
    },
    {
      "cell_type": "code",
      "metadata": {
        "id": "28C_VKT_6ChD"
      },
      "source": [
        "y_pred=lc.predict(x_test)"
      ],
      "execution_count": 21,
      "outputs": []
    },
    {
      "cell_type": "code",
      "metadata": {
        "colab": {
          "base_uri": "https://localhost:8080/"
        },
        "id": "DaLyoaxQ6EP8",
        "outputId": "bd3ee63b-8027-4a26-82c8-f51eae7ffc6e"
      },
      "source": [
        "y_pred"
      ],
      "execution_count": 22,
      "outputs": [
        {
          "output_type": "execute_result",
          "data": {
            "text/plain": [
              "array([166.93794606, 185.02486165, 106.8792974 ,  50.92543936,\n",
              "       226.32882861,  59.51332979,  43.00520503,  50.31354974,\n",
              "       105.9385319 , 111.6827426 ,  92.2153231 ,  94.4908235 ,\n",
              "        46.23534277,  41.20714713, 149.95184809, 106.62136682,\n",
              "       141.47953492, 109.77932208,  65.19638167, 143.26289774,\n",
              "       100.50411095,  57.97341504,  53.48780217, 241.14903422,\n",
              "        65.67724611,  73.34165971,  57.91527674, 189.60156326,\n",
              "       100.74327935,  64.38748781,  46.68498869,  54.72870472,\n",
              "        71.14651449,  52.70452836,  60.56082489, 179.76191519,\n",
              "       104.0792718 , 137.32224013,  89.14445476, 137.93706427,\n",
              "       207.11249646, 130.28959777,  69.30521538,  68.65547102,\n",
              "        45.97797434,  47.15887713, 173.71909323,  64.68237793,\n",
              "        58.0224203 , 139.90340366, 238.9308743 ,  55.51324317,\n",
              "        42.0906213 , 141.82918747,  70.00511096, 221.32229109,\n",
              "       105.17081978, 155.31599289,  71.75024985,  77.68573642,\n",
              "       138.99538483,  41.50844839, 183.50647778,  77.52364801,\n",
              "       111.1079973 ,  95.38749005,  52.68497475,  48.70025382,\n",
              "        40.82535762,  65.34739805,  63.32612194,  45.96615858,\n",
              "        96.78368836,  47.45025366,  56.37034352,  50.22813053,\n",
              "        64.75316911, 254.05073189,  45.7349064 , 134.22439479,\n",
              "        72.9542163 ,  63.45794728, 113.30174481,  57.38080435,\n",
              "        54.36886338, 186.23774477, 224.27568896, 229.67845906,\n",
              "        84.37234857,  62.99680727, 184.83741311,  50.04923743,\n",
              "       157.44310252, 108.34668703,  46.19494887,  47.3988579 ,\n",
              "        52.17172003, 138.69477224,  70.94078455,  68.53116625,\n",
              "       210.17729745, 125.72009576,  54.41473624, 247.13859233,\n",
              "        93.50924102, 203.07942454,  68.64491916,  71.79584901,\n",
              "       125.19189825,  51.44423726, 158.34886887, 125.31175957,\n",
              "        41.37467836,  92.1282841 , 166.08100181,  58.35254126,\n",
              "        44.43688655, 111.58922601, 230.92549586, 215.51016662,\n",
              "        56.08652251, 209.33269965,  46.0244261 ,  63.57913011,\n",
              "       112.33559398,  69.48541908,  55.62720896,  42.77010058,\n",
              "       173.0893634 ,  56.70148275,  56.96939011, 148.23380503,\n",
              "       230.12635978,  61.22939176,  51.40753252,  52.92035963,\n",
              "        47.22429949,  69.99175435,  64.40413546, 107.08566224,\n",
              "       130.18001723,  46.68553683, 122.6228483 , 138.12157372,\n",
              "       210.08246906,  64.17446643,  43.41507362, 165.71243763,\n",
              "       207.18568449, 159.73377872,  53.73640486, 107.16012366,\n",
              "        73.97760273,  44.1583498 ,  52.70142721,  78.89362451,\n",
              "       135.09553671, 211.31770053, 112.54531324, 104.24451728,\n",
              "       101.49656504, 111.7672363 , 116.36333044,  65.42299809,\n",
              "        54.33686742, 100.5203052 ,  97.89640059, 119.43480228,\n",
              "       134.64423486, 108.36099629,  53.66703626,  55.60856414,\n",
              "       141.83227729, 184.78380102,  49.01514014, 103.39299081,\n",
              "       109.73119484,  46.9069347 , 253.22371899,  74.73182486,\n",
              "       214.45663667,  70.4393547 ,  52.80028844, 105.13924945,\n",
              "        47.32614882,  97.8061778 ,  62.31632337,  65.13781298,\n",
              "        43.91163878, 136.26618239,  72.92798504, 186.90540897,\n",
              "       149.55680371,  57.43682514,  44.26350156, 195.85222001,\n",
              "        52.20989839,  52.34114569, 120.18150491, 162.24880583,\n",
              "        62.2107586 ,  81.4981459 , 107.22682492, 163.75817597,\n",
              "        59.36900408,  46.64937881,  73.16449826,  52.5099208 ,\n",
              "        79.18233279,  73.9059586 , 106.39171642,  74.65434139,\n",
              "        41.17387363,  83.73413144, 151.48721342, 243.92115567,\n",
              "       136.16706434,  65.3967566 ,  57.60185441,  92.6854834 ,\n",
              "        51.19235842, 111.66237375,  57.99504138,  73.47911958,\n",
              "       219.2479156 ,  52.61343995,  99.36789521,  75.55495014,\n",
              "       124.91524151, 120.08039039,  46.07276296,  57.48731461,\n",
              "       170.79571727, 212.78970889, 157.54806179,  74.98148362,\n",
              "        70.19321863, 100.34478763,  43.81459782,  50.34477919,\n",
              "       203.67497706, 147.25781594, 242.91358618, 214.73197825,\n",
              "       215.38783654, 133.50964425, 112.85643731, 121.28509899,\n",
              "       106.46366891,  74.44564097, 102.23925727, 149.36733105,\n",
              "        92.17505848,  64.84305327,  56.32037506,  73.17316556,\n",
              "        92.67857702,  53.57259008,  47.28399941,  55.11763736,\n",
              "        84.31155689,  64.25112475,  41.7098642 ,  53.40857636,\n",
              "       244.2415711 , 136.73392306, 138.8611615 , 209.69510764,\n",
              "        62.69681676, 119.85484448, 140.43541391,  40.5305826 ,\n",
              "        57.95000564, 209.24837773,  42.46280151,  51.96469562,\n",
              "       261.27667836, 225.85385318,  66.3624891 , 137.1145886 ,\n",
              "       182.37879734, 107.16287438,  60.86118789,  41.49198243,\n",
              "        47.51467653, 211.82043427, 127.15415868, 107.02560686,\n",
              "       114.5944143 ,  95.56265382, 116.62845621, 154.63745233,\n",
              "       176.69035697, 211.59766771,  83.12540664,  73.3411632 ,\n",
              "       200.11045064, 233.9349631 ,  96.16089831, 233.07727619,\n",
              "        97.74653809,  54.13392375, 144.74327342, 157.44654736,\n",
              "       242.61052088,  51.33817627,  65.01403332,  49.78467396,\n",
              "       111.67161623, 213.17203203,  57.2648888 ,  73.25277427,\n",
              "       216.26475015,  52.81853888, 183.50409425,  54.09361927,\n",
              "       215.88268389,  69.50398056,  47.76255076, 152.67682023,\n",
              "        65.47504995,  65.10724754, 157.69977803,  63.42567193,\n",
              "        74.57403095,  93.27854566,  72.55012756])"
            ]
          },
          "metadata": {},
          "execution_count": 22
        }
      ]
    },
    {
      "cell_type": "code",
      "metadata": {
        "colab": {
          "base_uri": "https://localhost:8080/",
          "height": 665
        },
        "id": "RG6R4KAv6GOs",
        "outputId": "50c2599d-dbee-4228-e974-5fa9becfe2cd"
      },
      "source": [
        "data=pd.DataFrame({'Actual':y_test.flatten(),'Predicted':y_pred.flatten()})\n",
        "data.head(20)"
      ],
      "execution_count": 23,
      "outputs": [
        {
          "output_type": "execute_result",
          "data": {
            "text/html": [
              "<div>\n",
              "<style scoped>\n",
              "    .dataframe tbody tr th:only-of-type {\n",
              "        vertical-align: middle;\n",
              "    }\n",
              "\n",
              "    .dataframe tbody tr th {\n",
              "        vertical-align: top;\n",
              "    }\n",
              "\n",
              "    .dataframe thead th {\n",
              "        text-align: right;\n",
              "    }\n",
              "</style>\n",
              "<table border=\"1\" class=\"dataframe\">\n",
              "  <thead>\n",
              "    <tr style=\"text-align: right;\">\n",
              "      <th></th>\n",
              "      <th>Actual</th>\n",
              "      <th>Predicted</th>\n",
              "    </tr>\n",
              "  </thead>\n",
              "  <tbody>\n",
              "    <tr>\n",
              "      <th>0</th>\n",
              "      <td>168.039993</td>\n",
              "      <td>166.937946</td>\n",
              "    </tr>\n",
              "    <tr>\n",
              "      <th>1</th>\n",
              "      <td>184.440002</td>\n",
              "      <td>185.024862</td>\n",
              "    </tr>\n",
              "    <tr>\n",
              "      <th>2</th>\n",
              "      <td>106.029999</td>\n",
              "      <td>106.879297</td>\n",
              "    </tr>\n",
              "    <tr>\n",
              "      <th>3</th>\n",
              "      <td>50.480000</td>\n",
              "      <td>50.925439</td>\n",
              "    </tr>\n",
              "    <tr>\n",
              "      <th>4</th>\n",
              "      <td>227.270004</td>\n",
              "      <td>226.328829</td>\n",
              "    </tr>\n",
              "    <tr>\n",
              "      <th>5</th>\n",
              "      <td>59.799999</td>\n",
              "      <td>59.513330</td>\n",
              "    </tr>\n",
              "    <tr>\n",
              "      <th>6</th>\n",
              "      <td>42.990002</td>\n",
              "      <td>43.005205</td>\n",
              "    </tr>\n",
              "    <tr>\n",
              "      <th>7</th>\n",
              "      <td>50.389999</td>\n",
              "      <td>50.313550</td>\n",
              "    </tr>\n",
              "    <tr>\n",
              "      <th>8</th>\n",
              "      <td>106.029999</td>\n",
              "      <td>105.938532</td>\n",
              "    </tr>\n",
              "    <tr>\n",
              "      <th>9</th>\n",
              "      <td>112.169998</td>\n",
              "      <td>111.682743</td>\n",
              "    </tr>\n",
              "    <tr>\n",
              "      <th>10</th>\n",
              "      <td>91.779999</td>\n",
              "      <td>92.215323</td>\n",
              "    </tr>\n",
              "    <tr>\n",
              "      <th>11</th>\n",
              "      <td>94.260002</td>\n",
              "      <td>94.490824</td>\n",
              "    </tr>\n",
              "    <tr>\n",
              "      <th>12</th>\n",
              "      <td>45.970001</td>\n",
              "      <td>46.235343</td>\n",
              "    </tr>\n",
              "    <tr>\n",
              "      <th>13</th>\n",
              "      <td>41.380001</td>\n",
              "      <td>41.207147</td>\n",
              "    </tr>\n",
              "    <tr>\n",
              "      <th>14</th>\n",
              "      <td>149.929993</td>\n",
              "      <td>149.951848</td>\n",
              "    </tr>\n",
              "    <tr>\n",
              "      <th>15</th>\n",
              "      <td>107.589996</td>\n",
              "      <td>106.621367</td>\n",
              "    </tr>\n",
              "    <tr>\n",
              "      <th>16</th>\n",
              "      <td>141.339996</td>\n",
              "      <td>141.479535</td>\n",
              "    </tr>\n",
              "    <tr>\n",
              "      <th>17</th>\n",
              "      <td>109.080002</td>\n",
              "      <td>109.779322</td>\n",
              "    </tr>\n",
              "    <tr>\n",
              "      <th>18</th>\n",
              "      <td>65.040001</td>\n",
              "      <td>65.196382</td>\n",
              "    </tr>\n",
              "    <tr>\n",
              "      <th>19</th>\n",
              "      <td>135.419998</td>\n",
              "      <td>143.262898</td>\n",
              "    </tr>\n",
              "  </tbody>\n",
              "</table>\n",
              "</div>"
            ],
            "text/plain": [
              "        Actual   Predicted\n",
              "0   168.039993  166.937946\n",
              "1   184.440002  185.024862\n",
              "2   106.029999  106.879297\n",
              "3    50.480000   50.925439\n",
              "4   227.270004  226.328829\n",
              "5    59.799999   59.513330\n",
              "6    42.990002   43.005205\n",
              "7    50.389999   50.313550\n",
              "8   106.029999  105.938532\n",
              "9   112.169998  111.682743\n",
              "10   91.779999   92.215323\n",
              "11   94.260002   94.490824\n",
              "12   45.970001   46.235343\n",
              "13   41.380001   41.207147\n",
              "14  149.929993  149.951848\n",
              "15  107.589996  106.621367\n",
              "16  141.339996  141.479535\n",
              "17  109.080002  109.779322\n",
              "18   65.040001   65.196382\n",
              "19  135.419998  143.262898"
            ]
          },
          "metadata": {},
          "execution_count": 23
        }
      ]
    },
    {
      "cell_type": "code",
      "metadata": {
        "colab": {
          "base_uri": "https://localhost:8080/"
        },
        "id": "Cs_YZ1M96IwW",
        "outputId": "19048e5f-7608-467f-83c9-d2aca20fc8c7"
      },
      "source": [
        "import math\n",
        "print('Mean Absolute Error:',metrics.mean_absolute_error(y_test,y_pred))\n",
        "print('Mean Squared Error',metrics.mean_squared_error(y_test,y_pred))\n",
        "print('Root Mean Squared Error',math.sqrt(metrics.mean_squared_error(y_test,y_pred)))"
      ],
      "execution_count": 24,
      "outputs": [
        {
          "output_type": "stream",
          "text": [
            "Mean Absolute Error: 0.4597053822663035\n",
            "Mean Squared Error 0.7054085289618749\n",
            "Root Mean Squared Error 0.8398860214111644\n"
          ],
          "name": "stdout"
        }
      ]
    },
    {
      "cell_type": "code",
      "metadata": {
        "id": "FBY_gbj46Kj-"
      },
      "source": [
        "graph=data.head(20)"
      ],
      "execution_count": 25,
      "outputs": []
    },
    {
      "cell_type": "code",
      "metadata": {
        "colab": {
          "base_uri": "https://localhost:8080/",
          "height": 285
        },
        "id": "I93fYaVR6MYD",
        "outputId": "2cceaa49-3d26-4526-c927-e9f75417b29f"
      },
      "source": [
        "graph.plot(kind='bar')"
      ],
      "execution_count": 26,
      "outputs": [
        {
          "output_type": "execute_result",
          "data": {
            "text/plain": [
              "<matplotlib.axes._subplots.AxesSubplot at 0x7fcd96a7ecd0>"
            ]
          },
          "metadata": {},
          "execution_count": 26
        },
        {
          "output_type": "display_data",
          "data": {
            "image/png": "[encoded data removed]",
            "text/plain": [
              "<Figure size 432x288 with 1 Axes>"
            ]
          },
          "metadata": {
            "needs_background": "light"
          }
        }
      ]
    },
    {
      "cell_type": "code",
      "metadata": {
        "colab": {
          "base_uri": "https://localhost:8080/",
          "height": 522
        },
        "id": "8cqeM6G66N7q",
        "outputId": "a53aca17-c255-46f8-a758-440ae53388a0"
      },
      "source": [
        "hi=input(\"Enter the maximum price of the share today: \")\n",
        "lo=input(\"Enter the close price at which the stock is traded today: \")\n",
        "op=input(\"Enter the open price at which the stock is traded today: \")\n",
        "vol=input(\"Enter number of shares sold that day: \")"
      ],
      "execution_count": 15,
      "outputs": [
        {
          "output_type": "error",
          "ename": "KeyboardInterrupt",
          "evalue": "ignored",
          "traceback": [
            "\u001b[0;31m---------------------------------------------------------------------------\u001b[0m",
            "\u001b[0;31mKeyboardInterrupt\u001b[0m                         Traceback (most recent call last)",
            "\u001b[0;32m/usr/local/lib/python3.7/dist-packages/ipykernel/kernelbase.py\u001b[0m in \u001b[0;36m_input_request\u001b[0;34m(self, prompt, ident, parent, password)\u001b[0m\n\u001b[1;32m    728\u001b[0m             \u001b[0;32mtry\u001b[0m\u001b[0;34m:\u001b[0m\u001b[0;34m\u001b[0m\u001b[0;34m\u001b[0m\u001b[0m\n\u001b[0;32m--> 729\u001b[0;31m                 \u001b[0mident\u001b[0m\u001b[0;34m,\u001b[0m \u001b[0mreply\u001b[0m \u001b[0;34m=\u001b[0m \u001b[0mself\u001b[0m\u001b[0;34m.\u001b[0m\u001b[0msession\u001b[0m\u001b[0;34m.\u001b[0m\u001b[0mrecv\u001b[0m\u001b[0;34m(\u001b[0m\u001b[0mself\u001b[0m\u001b[0;34m.\u001b[0m\u001b[0mstdin_socket\u001b[0m\u001b[0;34m,\u001b[0m \u001b[0;36m0\u001b[0m\u001b[0;34m)\u001b[0m\u001b[0;34m\u001b[0m\u001b[0;34m\u001b[0m\u001b[0m\n\u001b[0m\u001b[1;32m    730\u001b[0m             \u001b[0;32mexcept\u001b[0m \u001b[0mException\u001b[0m\u001b[0;34m:\u001b[0m\u001b[0;34m\u001b[0m\u001b[0;34m\u001b[0m\u001b[0m\n",
            "\u001b[0;32m/usr/local/lib/python3.7/dist-packages/jupyter_client/session.py\u001b[0m in \u001b[0;36mrecv\u001b[0;34m(self, socket, mode, content, copy)\u001b[0m\n\u001b[1;32m    802\u001b[0m         \u001b[0;32mtry\u001b[0m\u001b[0;34m:\u001b[0m\u001b[0;34m\u001b[0m\u001b[0;34m\u001b[0m\u001b[0m\n\u001b[0;32m--> 803\u001b[0;31m             \u001b[0mmsg_list\u001b[0m \u001b[0;34m=\u001b[0m \u001b[0msocket\u001b[0m\u001b[0;34m.\u001b[0m\u001b[0mrecv_multipart\u001b[0m\u001b[0;34m(\u001b[0m\u001b[0mmode\u001b[0m\u001b[0;34m,\u001b[0m \u001b[0mcopy\u001b[0m\u001b[0;34m=\u001b[0m\u001b[0mcopy\u001b[0m\u001b[0;34m)\u001b[0m\u001b[0;34m\u001b[0m\u001b[0;34m\u001b[0m\u001b[0m\n\u001b[0m\u001b[1;32m    804\u001b[0m         \u001b[0;32mexcept\u001b[0m \u001b[0mzmq\u001b[0m\u001b[0;34m.\u001b[0m\u001b[0mZMQError\u001b[0m \u001b[0;32mas\u001b[0m \u001b[0me\u001b[0m\u001b[0;34m:\u001b[0m\u001b[0;34m\u001b[0m\u001b[0;34m\u001b[0m\u001b[0m\n",
            "\u001b[0;32m/usr/local/lib/python3.7/dist-packages/zmq/sugar/socket.py\u001b[0m in \u001b[0;36mrecv_multipart\u001b[0;34m(self, flags, copy, track)\u001b[0m\n\u001b[1;32m    618\u001b[0m         \"\"\"\n\u001b[0;32m--> 619\u001b[0;31m         \u001b[0mparts\u001b[0m \u001b[0;34m=\u001b[0m \u001b[0;34m[\u001b[0m\u001b[0mself\u001b[0m\u001b[0;34m.\u001b[0m\u001b[0mrecv\u001b[0m\u001b[0;34m(\u001b[0m\u001b[0mflags\u001b[0m\u001b[0;34m,\u001b[0m \u001b[0mcopy\u001b[0m\u001b[0;34m=\u001b[0m\u001b[0mcopy\u001b[0m\u001b[0;34m,\u001b[0m \u001b[0mtrack\u001b[0m\u001b[0;34m=\u001b[0m\u001b[0mtrack\u001b[0m\u001b[0;34m)\u001b[0m\u001b[0;34m]\u001b[0m\u001b[0;34m\u001b[0m\u001b[0;34m\u001b[0m\u001b[0m\n\u001b[0m\u001b[1;32m    620\u001b[0m         \u001b[0;31m# have first part already, only loop while more to receive\u001b[0m\u001b[0;34m\u001b[0m\u001b[0;34m\u001b[0m\u001b[0;34m\u001b[0m\u001b[0m\n",
            "\u001b[0;32mzmq/backend/cython/socket.pyx\u001b[0m in \u001b[0;36mzmq.backend.cython.socket.Socket.recv\u001b[0;34m()\u001b[0m\n",
            "\u001b[0;32mzmq/backend/cython/socket.pyx\u001b[0m in \u001b[0;36mzmq.backend.cython.socket.Socket.recv\u001b[0;34m()\u001b[0m\n",
            "\u001b[0;32mzmq/backend/cython/socket.pyx\u001b[0m in \u001b[0;36mzmq.backend.cython.socket._recv_copy\u001b[0;34m()\u001b[0m\n",
            "\u001b[0;32m/usr/local/lib/python3.7/dist-packages/zmq/backend/cython/checkrc.pxd\u001b[0m in \u001b[0;36mzmq.backend.cython.checkrc._check_rc\u001b[0;34m()\u001b[0m\n",
            "\u001b[0;31mKeyboardInterrupt\u001b[0m: ",
            "\nDuring handling of the above exception, another exception occurred:\n",
            "\u001b[0;31mKeyboardInterrupt\u001b[0m                         Traceback (most recent call last)",
            "\u001b[0;32m<ipython-input-15-ad250eda0b18>\u001b[0m in \u001b[0;36m<module>\u001b[0;34m()\u001b[0m\n\u001b[0;32m----> 1\u001b[0;31m \u001b[0mhi\u001b[0m\u001b[0;34m=\u001b[0m\u001b[0minput\u001b[0m\u001b[0;34m(\u001b[0m\u001b[0;34m\"Enter the maximum price of the share today: \"\u001b[0m\u001b[0;34m)\u001b[0m\u001b[0;34m\u001b[0m\u001b[0;34m\u001b[0m\u001b[0m\n\u001b[0m\u001b[1;32m      2\u001b[0m \u001b[0mlo\u001b[0m\u001b[0;34m=\u001b[0m\u001b[0minput\u001b[0m\u001b[0;34m(\u001b[0m\u001b[0;34m\"Enter the close price at which the stock is traded today: \"\u001b[0m\u001b[0;34m)\u001b[0m\u001b[0;34m\u001b[0m\u001b[0;34m\u001b[0m\u001b[0m\n\u001b[1;32m      3\u001b[0m \u001b[0mop\u001b[0m\u001b[0;34m=\u001b[0m\u001b[0minput\u001b[0m\u001b[0;34m(\u001b[0m\u001b[0;34m\"Enter the open price at which the stock is traded today: \"\u001b[0m\u001b[0;34m)\u001b[0m\u001b[0;34m\u001b[0m\u001b[0;34m\u001b[0m\u001b[0m\n\u001b[1;32m      4\u001b[0m \u001b[0mvol\u001b[0m\u001b[0;34m=\u001b[0m\u001b[0minput\u001b[0m\u001b[0;34m(\u001b[0m\u001b[0;34m\"Enter number of shares sold that day: \"\u001b[0m\u001b[0;34m)\u001b[0m\u001b[0;34m\u001b[0m\u001b[0;34m\u001b[0m\u001b[0m\n",
            "\u001b[0;32m/usr/local/lib/python3.7/dist-packages/ipykernel/kernelbase.py\u001b[0m in \u001b[0;36mraw_input\u001b[0;34m(self, prompt)\u001b[0m\n\u001b[1;32m    702\u001b[0m             \u001b[0mself\u001b[0m\u001b[0;34m.\u001b[0m\u001b[0m_parent_ident\u001b[0m\u001b[0;34m,\u001b[0m\u001b[0;34m\u001b[0m\u001b[0;34m\u001b[0m\u001b[0m\n\u001b[1;32m    703\u001b[0m             \u001b[0mself\u001b[0m\u001b[0;34m.\u001b[0m\u001b[0m_parent_header\u001b[0m\u001b[0;34m,\u001b[0m\u001b[0;34m\u001b[0m\u001b[0;34m\u001b[0m\u001b[0m\n\u001b[0;32m--> 704\u001b[0;31m             \u001b[0mpassword\u001b[0m\u001b[0;34m=\u001b[0m\u001b[0;32mFalse\u001b[0m\u001b[0;34m,\u001b[0m\u001b[0;34m\u001b[0m\u001b[0;34m\u001b[0m\u001b[0m\n\u001b[0m\u001b[1;32m    705\u001b[0m         )\n\u001b[1;32m    706\u001b[0m \u001b[0;34m\u001b[0m\u001b[0m\n",
            "\u001b[0;32m/usr/local/lib/python3.7/dist-packages/ipykernel/kernelbase.py\u001b[0m in \u001b[0;36m_input_request\u001b[0;34m(self, prompt, ident, parent, password)\u001b[0m\n\u001b[1;32m    732\u001b[0m             \u001b[0;32mexcept\u001b[0m \u001b[0mKeyboardInterrupt\u001b[0m\u001b[0;34m:\u001b[0m\u001b[0;34m\u001b[0m\u001b[0;34m\u001b[0m\u001b[0m\n\u001b[1;32m    733\u001b[0m                 \u001b[0;31m# re-raise KeyboardInterrupt, to truncate traceback\u001b[0m\u001b[0;34m\u001b[0m\u001b[0;34m\u001b[0m\u001b[0;34m\u001b[0m\u001b[0m\n\u001b[0;32m--> 734\u001b[0;31m                 \u001b[0;32mraise\u001b[0m \u001b[0mKeyboardInterrupt\u001b[0m\u001b[0;34m\u001b[0m\u001b[0;34m\u001b[0m\u001b[0m\n\u001b[0m\u001b[1;32m    735\u001b[0m             \u001b[0;32melse\u001b[0m\u001b[0;34m:\u001b[0m\u001b[0;34m\u001b[0m\u001b[0;34m\u001b[0m\u001b[0m\n\u001b[1;32m    736\u001b[0m                 \u001b[0;32mbreak\u001b[0m\u001b[0;34m\u001b[0m\u001b[0;34m\u001b[0m\u001b[0m\n",
            "\u001b[0;31mKeyboardInterrupt\u001b[0m: "
          ]
        }
      ]
    },
    {
      "cell_type": "code",
      "metadata": {
        "colab": {
          "base_uri": "https://localhost:8080/",
          "height": 162
        },
        "id": "ApCLlzmO6QN4",
        "outputId": "73cab33c-975c-4d76-a323-ed75c3ec0770"
      },
      "source": [
        "inp=([[hi,lo,op,vol]])"
      ],
      "execution_count": 16,
      "outputs": [
        {
          "output_type": "error",
          "ename": "NameError",
          "evalue": "ignored",
          "traceback": [
            "\u001b[0;31m---------------------------------------------------------------------------\u001b[0m",
            "\u001b[0;31mNameError\u001b[0m                                 Traceback (most recent call last)",
            "\u001b[0;32m<ipython-input-16-ebbdebe25128>\u001b[0m in \u001b[0;36m<module>\u001b[0;34m()\u001b[0m\n\u001b[0;32m----> 1\u001b[0;31m \u001b[0minp\u001b[0m\u001b[0;34m=\u001b[0m\u001b[0;34m(\u001b[0m\u001b[0;34m[\u001b[0m\u001b[0;34m[\u001b[0m\u001b[0mhi\u001b[0m\u001b[0;34m,\u001b[0m\u001b[0mlo\u001b[0m\u001b[0;34m,\u001b[0m\u001b[0mop\u001b[0m\u001b[0;34m,\u001b[0m\u001b[0mvol\u001b[0m\u001b[0;34m]\u001b[0m\u001b[0;34m]\u001b[0m\u001b[0;34m)\u001b[0m\u001b[0;34m\u001b[0m\u001b[0;34m\u001b[0m\u001b[0m\n\u001b[0m",
            "\u001b[0;31mNameError\u001b[0m: name 'hi' is not defined"
          ]
        }
      ]
    },
    {
      "cell_type": "code",
      "metadata": {
        "id": "OqL679Nl6V8Y"
      },
      "source": [
        "output=lc.predict(inp)"
      ],
      "execution_count": null,
      "outputs": []
    }
  ]
}