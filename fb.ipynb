{
  "nbformat": 4,
  "nbformat_minor": 0,
  "metadata": {
    "colab": {
      "name": "fb.ipynb",
      "provenance": []
    },
    "kernelspec": {
      "name": "python3",
      "display_name": "Python 3"
    },
    "language_info": {
      "name": "python"
    }
  },
  "cells": [
    {
      "cell_type": "code",
      "metadata": {
        "colab": {
          "base_uri": "https://localhost:8080/"
        },
        "id": "uTe8WXab5zRS",
        "outputId": "2f847218-6da4-4c85-9e0c-38c289c730c1"
      },
      "source": [
        "import pandas as pd\n",
        "\n",
        "import datetime\n",
        "\n",
        "import numpy as np\n",
        "\n",
        "import matplotlib.pyplot as plt\n",
        "\n",
        "from pandas.plotting import scatter_matrix\n",
        "\n",
        "!pip install yfinance\n",
        "\n",
        "import yfinance as yf\n",
        "\n",
        "%matplotlib inline\n",
        "from sklearn import preprocessing\n",
        "from sklearn import metrics\n",
        "from sklearn.model_selection import train_test_split\n",
        "from sklearn.linear_model import LinearRegression"
      ],
      "execution_count": 1,
      "outputs": [
        {
          "output_type": "stream",
          "text": [
            "Collecting yfinance\n",
            "  Downloading yfinance-0.1.63.tar.gz (26 kB)\n",
            "Requirement already satisfied: pandas>=0.24 in /usr/local/lib/python3.7/dist-packages (from yfinance) (1.1.5)\n",
            "Requirement already satisfied: numpy>=1.15 in /usr/local/lib/python3.7/dist-packages (from yfinance) (1.19.5)\n",
            "Requirement already satisfied: requests>=2.20 in /usr/local/lib/python3.7/dist-packages (from yfinance) (2.23.0)\n",
            "Requirement already satisfied: multitasking>=0.0.7 in /usr/local/lib/python3.7/dist-packages (from yfinance) (0.0.9)\n",
            "Collecting lxml>=4.5.1\n",
            "  Downloading lxml-4.6.3-cp37-cp37m-manylinux2014_x86_64.whl (6.3 MB)\n",
            "\u001b[K     |████████████████████████████████| 6.3 MB 7.5 MB/s \n",
            "\u001b[?25hRequirement already satisfied: pytz>=2017.2 in /usr/local/lib/python3.7/dist-packages (from pandas>=0.24->yfinance) (2018.9)\n",
            "Requirement already satisfied: python-dateutil>=2.7.3 in /usr/local/lib/python3.7/dist-packages (from pandas>=0.24->yfinance) (2.8.2)\n",
            "Requirement already satisfied: six>=1.5 in /usr/local/lib/python3.7/dist-packages (from python-dateutil>=2.7.3->pandas>=0.24->yfinance) (1.15.0)\n",
            "Requirement already satisfied: certifi>=2017.4.17 in /usr/local/lib/python3.7/dist-packages (from requests>=2.20->yfinance) (2021.5.30)\n",
            "Requirement already satisfied: chardet<4,>=3.0.2 in /usr/local/lib/python3.7/dist-packages (from requests>=2.20->yfinance) (3.0.4)\n",
            "Requirement already satisfied: idna<3,>=2.5 in /usr/local/lib/python3.7/dist-packages (from requests>=2.20->yfinance) (2.10)\n",
            "Requirement already satisfied: urllib3!=1.25.0,!=1.25.1,<1.26,>=1.21.1 in /usr/local/lib/python3.7/dist-packages (from requests>=2.20->yfinance) (1.24.3)\n",
            "Building wheels for collected packages: yfinance\n",
            "  Building wheel for yfinance (setup.py) ... \u001b[?25l\u001b[?25hdone\n",
            "  Created wheel for yfinance: filename=yfinance-0.1.63-py2.py3-none-any.whl size=23918 sha256=92e790a2815372f06fbeef7a1d0aa6fe8cb1aeccb88975ad53b2d97d358a8ead\n",
            "  Stored in directory: /root/.cache/pip/wheels/fe/87/8b/7ec24486e001d3926537f5f7801f57a74d181be25b11157983\n",
            "Successfully built yfinance\n",
            "Installing collected packages: lxml, yfinance\n",
            "  Attempting uninstall: lxml\n",
            "    Found existing installation: lxml 4.2.6\n",
            "    Uninstalling lxml-4.2.6:\n",
            "      Successfully uninstalled lxml-4.2.6\n",
            "Successfully installed lxml-4.6.3 yfinance-0.1.63\n"
          ],
          "name": "stdout"
        }
      ]
    },
    {
      "cell_type": "code",
      "metadata": {
        "colab": {
          "base_uri": "https://localhost:8080/"
        },
        "id": "_66DiRp55zy_",
        "outputId": "acf96e29-b1d6-41f9-8586-22fea2f51189"
      },
      "source": [
        "start = \"2015-01-01\"\n",
        "end = '2021-07-01'\n",
        "fb=yf.download('fb',start,end)"
      ],
      "execution_count": 39,
      "outputs": [
        {
          "output_type": "stream",
          "text": [
            "\r[*********************100%***********************]  1 of 1 completed\n"
          ],
          "name": "stdout"
        }
      ]
    },
    {
      "cell_type": "code",
      "metadata": {
        "colab": {
          "base_uri": "https://localhost:8080/",
          "height": 234
        },
        "id": "MujpNmiD51eq",
        "outputId": "511c11e7-ecc3-4ca2-f8e7-da7d31f01cf9"
      },
      "source": [
        "fb.head()"
      ],
      "execution_count": 40,
      "outputs": [
        {
          "output_type": "execute_result",
          "data": {
            "text/html": [
              "<div>\n",
              "<style scoped>\n",
              "    .dataframe tbody tr th:only-of-type {\n",
              "        vertical-align: middle;\n",
              "    }\n",
              "\n",
              "    .dataframe tbody tr th {\n",
              "        vertical-align: top;\n",
              "    }\n",
              "\n",
              "    .dataframe thead th {\n",
              "        text-align: right;\n",
              "    }\n",
              "</style>\n",
              "<table border=\"1\" class=\"dataframe\">\n",
              "  <thead>\n",
              "    <tr style=\"text-align: right;\">\n",
              "      <th></th>\n",
              "      <th>Open</th>\n",
              "      <th>High</th>\n",
              "      <th>Low</th>\n",
              "      <th>Close</th>\n",
              "      <th>Adj Close</th>\n",
              "      <th>Volume</th>\n",
              "    </tr>\n",
              "    <tr>\n",
              "      <th>Date</th>\n",
              "      <th></th>\n",
              "      <th></th>\n",
              "      <th></th>\n",
              "      <th></th>\n",
              "      <th></th>\n",
              "      <th></th>\n",
              "    </tr>\n",
              "  </thead>\n",
              "  <tbody>\n",
              "    <tr>\n",
              "      <th>2015-01-02</th>\n",
              "      <td>78.580002</td>\n",
              "      <td>78.930000</td>\n",
              "      <td>77.699997</td>\n",
              "      <td>78.449997</td>\n",
              "      <td>78.449997</td>\n",
              "      <td>18177500</td>\n",
              "    </tr>\n",
              "    <tr>\n",
              "      <th>2015-01-05</th>\n",
              "      <td>77.980003</td>\n",
              "      <td>79.250000</td>\n",
              "      <td>76.860001</td>\n",
              "      <td>77.190002</td>\n",
              "      <td>77.190002</td>\n",
              "      <td>26452200</td>\n",
              "    </tr>\n",
              "    <tr>\n",
              "      <th>2015-01-06</th>\n",
              "      <td>77.230003</td>\n",
              "      <td>77.589996</td>\n",
              "      <td>75.360001</td>\n",
              "      <td>76.150002</td>\n",
              "      <td>76.150002</td>\n",
              "      <td>27399300</td>\n",
              "    </tr>\n",
              "    <tr>\n",
              "      <th>2015-01-07</th>\n",
              "      <td>76.760002</td>\n",
              "      <td>77.360001</td>\n",
              "      <td>75.820000</td>\n",
              "      <td>76.150002</td>\n",
              "      <td>76.150002</td>\n",
              "      <td>22045300</td>\n",
              "    </tr>\n",
              "    <tr>\n",
              "      <th>2015-01-08</th>\n",
              "      <td>76.739998</td>\n",
              "      <td>78.230003</td>\n",
              "      <td>76.080002</td>\n",
              "      <td>78.180000</td>\n",
              "      <td>78.180000</td>\n",
              "      <td>23961000</td>\n",
              "    </tr>\n",
              "  </tbody>\n",
              "</table>\n",
              "</div>"
            ],
            "text/plain": [
              "                 Open       High        Low      Close  Adj Close    Volume\n",
              "Date                                                                       \n",
              "2015-01-02  78.580002  78.930000  77.699997  78.449997  78.449997  18177500\n",
              "2015-01-05  77.980003  79.250000  76.860001  77.190002  77.190002  26452200\n",
              "2015-01-06  77.230003  77.589996  75.360001  76.150002  76.150002  27399300\n",
              "2015-01-07  76.760002  77.360001  75.820000  76.150002  76.150002  22045300\n",
              "2015-01-08  76.739998  78.230003  76.080002  78.180000  78.180000  23961000"
            ]
          },
          "metadata": {},
          "execution_count": 40
        }
      ]
    },
    {
      "cell_type": "code",
      "metadata": {
        "id": "a5zc3onb57u9"
      },
      "source": [
        "x = fb[['High','Low','Open','Volume']].values\n",
        "y = fb['Close'].values"
      ],
      "execution_count": 41,
      "outputs": []
    },
    {
      "cell_type": "code",
      "metadata": {
        "colab": {
          "base_uri": "https://localhost:8080/"
        },
        "id": "9qCcUcEs5_iO",
        "outputId": "09679e7c-4a3f-4064-e25f-c48453b9b3eb"
      },
      "source": [
        "x_train,x_test,y_train,y_test=train_test_split(x,y,test_size=0.2,random_state=1)\n",
        "lc=LinearRegression()\n",
        "lc.fit(x_train,y_train)"
      ],
      "execution_count": 42,
      "outputs": [
        {
          "output_type": "execute_result",
          "data": {
            "text/plain": [
              "LinearRegression(copy_X=True, fit_intercept=True, n_jobs=None, normalize=False)"
            ]
          },
          "metadata": {},
          "execution_count": 42
        }
      ]
    },
    {
      "cell_type": "code",
      "metadata": {
        "id": "28C_VKT_6ChD"
      },
      "source": [
        "y_pred=lc.predict(x_test)"
      ],
      "execution_count": 43,
      "outputs": []
    },
    {
      "cell_type": "code",
      "metadata": {
        "colab": {
          "base_uri": "https://localhost:8080/"
        },
        "id": "DaLyoaxQ6EP8",
        "outputId": "ec93c804-be2c-4284-b5ae-96881b173271"
      },
      "source": [
        "y_pred"
      ],
      "execution_count": 44,
      "outputs": [
        {
          "output_type": "execute_result",
          "data": {
            "text/plain": [
              "array([221.40494035, 208.01950104, 144.82407111,  94.09409615,\n",
              "       298.30936356, 129.78609475,  84.44744097, 113.75868714,\n",
              "       170.74698678, 161.80938633, 192.25393358, 174.15869443,\n",
              "        81.84605114,  78.56653529, 199.74715569, 141.87204758,\n",
              "       199.24807323, 145.82465749, 142.68475359, 150.1439494 ,\n",
              "       197.93965269, 126.31351941, 110.29895681, 262.68810999,\n",
              "       141.14250195, 164.09567704, 124.63716262, 227.25007405,\n",
              "       132.39047725, 133.1494729 ,  95.50836822, 111.61564863,\n",
              "       158.430318  , 109.80419288, 120.41091496, 209.82272559,\n",
              "       149.6076561 , 181.2593657 , 183.47035773, 182.13840341,\n",
              "       234.94699449, 195.24288079, 150.63734402, 149.88298749,\n",
              "        80.72265374,  93.14459959, 204.14389184, 139.43770841,\n",
              "       123.65487587, 189.63413318, 259.48921691, 105.85969597,\n",
              "        88.68874764, 190.18979236, 154.21142233, 268.87750747,\n",
              "       166.84944305, 205.34180282, 167.96504365, 174.30976056,\n",
              "       184.3118628 ,  77.26343047, 212.30570239, 175.66666714,\n",
              "       166.34298955, 166.62367717, 106.4950249 ,  81.20714057,\n",
              "        82.93626678, 140.13410657, 119.2772512 ,  76.8708759 ,\n",
              "       185.26195431,  97.85928265, 128.43521541, 113.27530315,\n",
              "       138.12534261, 308.79420663,  80.12452965, 195.24552348,\n",
              "       167.92415528, 132.4856634 , 166.11020379, 128.10236859,\n",
              "       111.84787523, 229.18790063, 271.29474507, 257.40530704,\n",
              "       179.8228925 , 133.05472813, 234.18237442, 105.08041177,\n",
              "       204.70936673, 139.26021416,  96.74041151,  97.41816143,\n",
              "        96.38127179, 202.56054754, 154.66092657, 149.99004219,\n",
              "       237.68445596, 189.8720594 , 106.71708701, 316.41948265,\n",
              "       188.85267319, 233.70948048, 149.11007888, 153.9687009 ,\n",
              "       166.3092228 , 108.81570615, 211.18356935, 189.24463569,\n",
              "        82.48564446, 178.98470593, 220.30921148, 130.19537411,\n",
              "        87.83620922, 141.93666126, 290.02970146, 274.98873243,\n",
              "       121.57605954, 256.7119269 ,  76.60665562, 134.02355737,\n",
              "       178.8201172 , 149.49595837, 106.90538281,  84.35914129,\n",
              "       183.10937544, 128.01841792, 128.65975073, 192.70530671,\n",
              "       260.40072912, 121.72381412,  95.43834472, 107.66290443,\n",
              "        78.26661639, 151.15176464, 137.42182563, 173.8284188 ,\n",
              "       194.66940034,  82.91497137, 177.86536855, 176.42549362,\n",
              "       256.1608636 , 134.53792086,  76.47895026, 221.06671102,\n",
              "       252.01772774, 215.24901053, 111.45487383, 175.08647772,\n",
              "       165.05690157,  81.07150359, 103.96603789, 172.51616734,\n",
              "       177.29254666, 277.81525912, 162.13056085, 143.08826686,\n",
              "       193.33742977, 162.24480945, 166.33000787, 131.78803764,\n",
              "       112.16275864, 193.57179949, 133.82178097, 178.37968078,\n",
              "       180.42154945, 150.60322042, 114.13777856, 105.44495253,\n",
              "       144.69925045, 213.24851747,  80.81890193, 143.81325677,\n",
              "       145.5128394 ,  79.30281436, 320.20332059, 169.79593615,\n",
              "       282.04045907, 154.65272725,  98.96111414, 209.79171191,\n",
              "        79.70583344, 184.27205281, 120.25568543, 139.98147217,\n",
              "        93.23659204, 195.19666778, 167.50613745, 229.79747102,\n",
              "       157.46471012, 123.37690707,  93.33013014, 238.55339742,\n",
              "       119.47144697, 118.10958969, 177.4808025 , 214.98060877,\n",
              "       118.14634148, 172.33180021, 153.05940302, 221.21373652,\n",
              "       121.44497529,  93.90150275, 168.6862205 ,  98.76392223,\n",
              "       172.30961163, 169.93217163, 143.22361959, 171.60779981,\n",
              "        83.53801157, 175.99866082, 200.91197286, 271.17323911,\n",
              "       145.87976646, 142.35518674, 128.36941727, 166.54607924,\n",
              "       106.85292586, 175.63896226, 125.51264689, 165.6934202 ,\n",
              "       277.01314065, 108.89721618, 191.38972726, 171.99738836,\n",
              "       183.05674445, 165.25829423,  88.97094735, 130.31299572,\n",
              "       184.39377221, 275.01159123, 205.77097052, 172.51983592,\n",
              "       153.2170802 , 133.45285195,  88.38862339, 113.82816831,\n",
              "       265.34834794, 193.67420714, 268.72065782, 247.86631792,\n",
              "       282.64814037, 176.42746586, 165.46129293, 179.59304398,\n",
              "       134.93904776, 171.80728682, 144.92014821, 196.9719208 ,\n",
              "       180.01579996, 133.48023403, 127.3436199 , 172.46997217,\n",
              "       183.61900454, 104.62524678,  82.3736419 , 104.4549046 ,\n",
              "       179.6345583 , 136.05064059,  76.09105144, 101.53315925,\n",
              "       269.48553809, 198.36145029, 201.15667757, 263.29551324,\n",
              "       128.91762439, 176.04325521, 202.83206657,  76.63454634,\n",
              "       125.61581162, 241.11233514,  80.91081336,  96.5256204 ,\n",
              "       304.00955859, 274.5288922 , 142.93788738, 187.12819304,\n",
              "       234.44889837, 148.20981035, 121.19085961,  77.74462447,\n",
              "        81.14758949, 275.20344794, 183.96272274, 171.07829289,\n",
              "       164.42961221, 178.11500719, 165.27913545, 152.86835047,\n",
              "       203.98041743, 243.65340385, 177.99848321, 159.64739691,\n",
              "       230.19201068, 261.59971885, 167.1247595 , 263.37805545,\n",
              "       184.56043134, 105.24078234, 191.25244501, 204.98877296,\n",
              "       269.89617996, 106.12614669, 139.19348773, 118.01615661,\n",
              "       151.44223479, 270.15358579, 129.0973398 , 170.45903263,\n",
              "       279.90933582, 118.43118577, 209.73808399, 103.05966677,\n",
              "       274.43780142, 151.42207327,  78.58260421, 196.92802734,\n",
              "       141.18996435, 139.54870861, 180.86532146, 131.39316865,\n",
              "       170.39953946, 182.09836262, 171.42177888])"
            ]
          },
          "metadata": {},
          "execution_count": 44
        }
      ]
    },
    {
      "cell_type": "code",
      "metadata": {
        "colab": {
          "base_uri": "https://localhost:8080/",
          "height": 665
        },
        "id": "RG6R4KAv6GOs",
        "outputId": "5842001a-6ab0-4799-a1e6-b7da19bbc191"
      },
      "source": [
        "data=pd.DataFrame({'Actual':y_test.flatten(),'Predicted':y_pred.flatten()})\n",
        "data.head(20)"
      ],
      "execution_count": 45,
      "outputs": [
        {
          "output_type": "execute_result",
          "data": {
            "text/html": [
              "<div>\n",
              "<style scoped>\n",
              "    .dataframe tbody tr th:only-of-type {\n",
              "        vertical-align: middle;\n",
              "    }\n",
              "\n",
              "    .dataframe tbody tr th {\n",
              "        vertical-align: top;\n",
              "    }\n",
              "\n",
              "    .dataframe thead th {\n",
              "        text-align: right;\n",
              "    }\n",
              "</style>\n",
              "<table border=\"1\" class=\"dataframe\">\n",
              "  <thead>\n",
              "    <tr style=\"text-align: right;\">\n",
              "      <th></th>\n",
              "      <th>Actual</th>\n",
              "      <th>Predicted</th>\n",
              "    </tr>\n",
              "  </thead>\n",
              "  <tbody>\n",
              "    <tr>\n",
              "      <th>0</th>\n",
              "      <td>223.229996</td>\n",
              "      <td>221.404940</td>\n",
              "    </tr>\n",
              "    <tr>\n",
              "      <th>1</th>\n",
              "      <td>207.190002</td>\n",
              "      <td>208.019501</td>\n",
              "    </tr>\n",
              "    <tr>\n",
              "      <th>2</th>\n",
              "      <td>144.059998</td>\n",
              "      <td>144.824071</td>\n",
              "    </tr>\n",
              "    <tr>\n",
              "      <th>3</th>\n",
              "      <td>94.160004</td>\n",
              "      <td>94.094096</td>\n",
              "    </tr>\n",
              "    <tr>\n",
              "      <th>4</th>\n",
              "      <td>295.440002</td>\n",
              "      <td>298.309364</td>\n",
              "    </tr>\n",
              "    <tr>\n",
              "      <th>5</th>\n",
              "      <td>129.500000</td>\n",
              "      <td>129.786095</td>\n",
              "    </tr>\n",
              "    <tr>\n",
              "      <th>6</th>\n",
              "      <td>84.629997</td>\n",
              "      <td>84.447441</td>\n",
              "    </tr>\n",
              "    <tr>\n",
              "      <th>7</th>\n",
              "      <td>114.389999</td>\n",
              "      <td>113.758687</td>\n",
              "    </tr>\n",
              "    <tr>\n",
              "      <th>8</th>\n",
              "      <td>170.490005</td>\n",
              "      <td>170.746987</td>\n",
              "    </tr>\n",
              "    <tr>\n",
              "      <th>9</th>\n",
              "      <td>162.809998</td>\n",
              "      <td>161.809386</td>\n",
              "    </tr>\n",
              "    <tr>\n",
              "      <th>10</th>\n",
              "      <td>190.279999</td>\n",
              "      <td>192.253934</td>\n",
              "    </tr>\n",
              "    <tr>\n",
              "      <th>11</th>\n",
              "      <td>174.160004</td>\n",
              "      <td>174.158694</td>\n",
              "    </tr>\n",
              "    <tr>\n",
              "      <th>12</th>\n",
              "      <td>81.529999</td>\n",
              "      <td>81.846051</td>\n",
              "    </tr>\n",
              "    <tr>\n",
              "      <th>13</th>\n",
              "      <td>78.050003</td>\n",
              "      <td>78.566535</td>\n",
              "    </tr>\n",
              "    <tr>\n",
              "      <th>14</th>\n",
              "      <td>199.360001</td>\n",
              "      <td>199.747156</td>\n",
              "    </tr>\n",
              "    <tr>\n",
              "      <th>15</th>\n",
              "      <td>141.850006</td>\n",
              "      <td>141.872048</td>\n",
              "    </tr>\n",
              "    <tr>\n",
              "      <th>16</th>\n",
              "      <td>199.750000</td>\n",
              "      <td>199.248073</td>\n",
              "    </tr>\n",
              "    <tr>\n",
              "      <th>17</th>\n",
              "      <td>144.500000</td>\n",
              "      <td>145.824657</td>\n",
              "    </tr>\n",
              "    <tr>\n",
              "      <th>18</th>\n",
              "      <td>142.270004</td>\n",
              "      <td>142.684754</td>\n",
              "    </tr>\n",
              "    <tr>\n",
              "      <th>19</th>\n",
              "      <td>146.009995</td>\n",
              "      <td>150.143949</td>\n",
              "    </tr>\n",
              "  </tbody>\n",
              "</table>\n",
              "</div>"
            ],
            "text/plain": [
              "        Actual   Predicted\n",
              "0   223.229996  221.404940\n",
              "1   207.190002  208.019501\n",
              "2   144.059998  144.824071\n",
              "3    94.160004   94.094096\n",
              "4   295.440002  298.309364\n",
              "5   129.500000  129.786095\n",
              "6    84.629997   84.447441\n",
              "7   114.389999  113.758687\n",
              "8   170.490005  170.746987\n",
              "9   162.809998  161.809386\n",
              "10  190.279999  192.253934\n",
              "11  174.160004  174.158694\n",
              "12   81.529999   81.846051\n",
              "13   78.050003   78.566535\n",
              "14  199.360001  199.747156\n",
              "15  141.850006  141.872048\n",
              "16  199.750000  199.248073\n",
              "17  144.500000  145.824657\n",
              "18  142.270004  142.684754\n",
              "19  146.009995  150.143949"
            ]
          },
          "metadata": {},
          "execution_count": 45
        }
      ]
    },
    {
      "cell_type": "code",
      "metadata": {
        "colab": {
          "base_uri": "https://localhost:8080/"
        },
        "id": "Cs_YZ1M96IwW",
        "outputId": "00ceeb09-96b8-446a-e367-ac3847419fc4"
      },
      "source": [
        "import math\n",
        "print('Mean Absolute Error:',metrics.mean_absolute_error(y_test,y_pred))\n",
        "print('Mean Squared Error',metrics.mean_squared_error(y_test,y_pred))\n",
        "print('Root Mean Squared Error',math.sqrt(metrics.mean_squared_error(y_test,y_pred)))"
      ],
      "execution_count": 46,
      "outputs": [
        {
          "output_type": "stream",
          "text": [
            "Mean Absolute Error: 0.8387354747858151\n",
            "Mean Squared Error 1.5693329463365568\n",
            "Root Mean Squared Error 1.2527301969444804\n"
          ],
          "name": "stdout"
        }
      ]
    },
    {
      "cell_type": "code",
      "metadata": {
        "id": "FBY_gbj46Kj-"
      },
      "source": [
        "graph=data.head(20)"
      ],
      "execution_count": 47,
      "outputs": []
    },
    {
      "cell_type": "code",
      "metadata": {
        "colab": {
          "base_uri": "https://localhost:8080/",
          "height": 285
        },
        "id": "I93fYaVR6MYD",
        "outputId": "e87c7997-3136-44cd-e055-aefd156fed27"
      },
      "source": [
        "graph.plot(kind='bar')"
      ],
      "execution_count": 48,
      "outputs": [
        {
          "output_type": "execute_result",
          "data": {
            "text/plain": [
              "<matplotlib.axes._subplots.AxesSubplot at 0x7fcd9622e290>"
            ]
          },
          "metadata": {},
          "execution_count": 48
        },
        {
          "output_type": "display_data",
          "data": {
            "image/png": "[encoded data removed]",
            "text/plain": [
              "<Figure size 432x288 with 1 Axes>"
            ]
          },
          "metadata": {
            "needs_background": "light"
          }
        }
      ]
    },
    {
      "cell_type": "code",
      "metadata": {
        "id": "THLouOHp8Vtp"
      },
      "source": [
        "hi=input(\"Enter the maximum price of the share today: \")\n",
        "lo=input(\"Enter the close price at which the stock is traded today: \")\n",
        "op=input(\"Enter the open price at which the stock is traded today: \")\n",
        "vol=input(\"Enter number of shares sold that day: \")"
      ],
      "execution_count": null,
      "outputs": []
    },
    {
      "cell_type": "code",
      "metadata": {
        "id": "Vs2B-2-q8X_z"
      },
      "source": [
        "inp=([[hi,lo,op,vol]])"
      ],
      "execution_count": null,
      "outputs": []
    },
    {
      "cell_type": "code",
      "metadata": {
        "id": "OqL679Nl6V8Y"
      },
      "source": [
        "output=lc.predict(inp)"
      ],
      "execution_count": null,
      "outputs": []
    }
  ]
}