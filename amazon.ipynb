{
  "nbformat": 4,
  "nbformat_minor": 0,
  "metadata": {
    "colab": {
      "name": "amazon.ipynb",
      "provenance": []
    },
    "kernelspec": {
      "name": "python3",
      "display_name": "Python 3"
    },
    "language_info": {
      "name": "python"
    }
  },
  "cells": [
    {
      "cell_type": "code",
      "metadata": {
        "colab": {
          "base_uri": "https://localhost:8080/"
        },
        "id": "uTe8WXab5zRS",
        "outputId": "2f847218-6da4-4c85-9e0c-38c289c730c1"
      },
      "source": [
        "import pandas as pd\n",
        "\n",
        "import datetime\n",
        "\n",
        "import numpy as np\n",
        "\n",
        "import matplotlib.pyplot as plt\n",
        "\n",
        "from pandas.plotting import scatter_matrix\n",
        "\n",
        "!pip install yfinance\n",
        "\n",
        "import yfinance as yf\n",
        "\n",
        "%matplotlib inline\n",
        "from sklearn import preprocessing\n",
        "from sklearn import metrics\n",
        "from sklearn.model_selection import train_test_split\n",
        "from sklearn.linear_model import LinearRegression"
      ],
      "execution_count": 1,
      "outputs": [
        {
          "output_type": "stream",
          "text": [
            "Collecting yfinance\n",
            "  Downloading yfinance-0.1.63.tar.gz (26 kB)\n",
            "Requirement already satisfied: pandas>=0.24 in /usr/local/lib/python3.7/dist-packages (from yfinance) (1.1.5)\n",
            "Requirement already satisfied: numpy>=1.15 in /usr/local/lib/python3.7/dist-packages (from yfinance) (1.19.5)\n",
            "Requirement already satisfied: requests>=2.20 in /usr/local/lib/python3.7/dist-packages (from yfinance) (2.23.0)\n",
            "Requirement already satisfied: multitasking>=0.0.7 in /usr/local/lib/python3.7/dist-packages (from yfinance) (0.0.9)\n",
            "Collecting lxml>=4.5.1\n",
            "  Downloading lxml-4.6.3-cp37-cp37m-manylinux2014_x86_64.whl (6.3 MB)\n",
            "\u001b[K     |████████████████████████████████| 6.3 MB 7.5 MB/s \n",
            "\u001b[?25hRequirement already satisfied: pytz>=2017.2 in /usr/local/lib/python3.7/dist-packages (from pandas>=0.24->yfinance) (2018.9)\n",
            "Requirement already satisfied: python-dateutil>=2.7.3 in /usr/local/lib/python3.7/dist-packages (from pandas>=0.24->yfinance) (2.8.2)\n",
            "Requirement already satisfied: six>=1.5 in /usr/local/lib/python3.7/dist-packages (from python-dateutil>=2.7.3->pandas>=0.24->yfinance) (1.15.0)\n",
            "Requirement already satisfied: certifi>=2017.4.17 in /usr/local/lib/python3.7/dist-packages (from requests>=2.20->yfinance) (2021.5.30)\n",
            "Requirement already satisfied: chardet<4,>=3.0.2 in /usr/local/lib/python3.7/dist-packages (from requests>=2.20->yfinance) (3.0.4)\n",
            "Requirement already satisfied: idna<3,>=2.5 in /usr/local/lib/python3.7/dist-packages (from requests>=2.20->yfinance) (2.10)\n",
            "Requirement already satisfied: urllib3!=1.25.0,!=1.25.1,<1.26,>=1.21.1 in /usr/local/lib/python3.7/dist-packages (from requests>=2.20->yfinance) (1.24.3)\n",
            "Building wheels for collected packages: yfinance\n",
            "  Building wheel for yfinance (setup.py) ... \u001b[?25l\u001b[?25hdone\n",
            "  Created wheel for yfinance: filename=yfinance-0.1.63-py2.py3-none-any.whl size=23918 sha256=92e790a2815372f06fbeef7a1d0aa6fe8cb1aeccb88975ad53b2d97d358a8ead\n",
            "  Stored in directory: /root/.cache/pip/wheels/fe/87/8b/7ec24486e001d3926537f5f7801f57a74d181be25b11157983\n",
            "Successfully built yfinance\n",
            "Installing collected packages: lxml, yfinance\n",
            "  Attempting uninstall: lxml\n",
            "    Found existing installation: lxml 4.2.6\n",
            "    Uninstalling lxml-4.2.6:\n",
            "      Successfully uninstalled lxml-4.2.6\n",
            "Successfully installed lxml-4.6.3 yfinance-0.1.63\n"
          ],
          "name": "stdout"
        }
      ]
    },
    {
      "cell_type": "code",
      "metadata": {
        "colab": {
          "base_uri": "https://localhost:8080/"
        },
        "id": "_66DiRp55zy_",
        "outputId": "72363902-90f0-4ff4-b9b7-afbed0d4f104"
      },
      "source": [
        "start = \"2015-01-01\"\n",
        "end = '2021-07-01'\n",
        "amazon=yf.download('amzn',start,end)"
      ],
      "execution_count": 29,
      "outputs": [
        {
          "output_type": "stream",
          "text": [
            "\r[*********************100%***********************]  1 of 1 completed\n"
          ],
          "name": "stdout"
        }
      ]
    },
    {
      "cell_type": "code",
      "metadata": {
        "colab": {
          "base_uri": "https://localhost:8080/",
          "height": 234
        },
        "id": "MujpNmiD51eq",
        "outputId": "6beaab63-7b32-47ba-e261-4748a75d58c4"
      },
      "source": [
        "amazon.head()"
      ],
      "execution_count": 30,
      "outputs": [
        {
          "output_type": "execute_result",
          "data": {
            "text/html": [
              "<div>\n",
              "<style scoped>\n",
              "    .dataframe tbody tr th:only-of-type {\n",
              "        vertical-align: middle;\n",
              "    }\n",
              "\n",
              "    .dataframe tbody tr th {\n",
              "        vertical-align: top;\n",
              "    }\n",
              "\n",
              "    .dataframe thead th {\n",
              "        text-align: right;\n",
              "    }\n",
              "</style>\n",
              "<table border=\"1\" class=\"dataframe\">\n",
              "  <thead>\n",
              "    <tr style=\"text-align: right;\">\n",
              "      <th></th>\n",
              "      <th>Open</th>\n",
              "      <th>High</th>\n",
              "      <th>Low</th>\n",
              "      <th>Close</th>\n",
              "      <th>Adj Close</th>\n",
              "      <th>Volume</th>\n",
              "    </tr>\n",
              "    <tr>\n",
              "      <th>Date</th>\n",
              "      <th></th>\n",
              "      <th></th>\n",
              "      <th></th>\n",
              "      <th></th>\n",
              "      <th></th>\n",
              "      <th></th>\n",
              "    </tr>\n",
              "  </thead>\n",
              "  <tbody>\n",
              "    <tr>\n",
              "      <th>2015-01-02</th>\n",
              "      <td>312.579987</td>\n",
              "      <td>314.750000</td>\n",
              "      <td>306.959991</td>\n",
              "      <td>308.519989</td>\n",
              "      <td>308.519989</td>\n",
              "      <td>2783200</td>\n",
              "    </tr>\n",
              "    <tr>\n",
              "      <th>2015-01-05</th>\n",
              "      <td>307.010010</td>\n",
              "      <td>308.380005</td>\n",
              "      <td>300.850006</td>\n",
              "      <td>302.190002</td>\n",
              "      <td>302.190002</td>\n",
              "      <td>2774200</td>\n",
              "    </tr>\n",
              "    <tr>\n",
              "      <th>2015-01-06</th>\n",
              "      <td>302.239990</td>\n",
              "      <td>303.000000</td>\n",
              "      <td>292.380005</td>\n",
              "      <td>295.290009</td>\n",
              "      <td>295.290009</td>\n",
              "      <td>3519000</td>\n",
              "    </tr>\n",
              "    <tr>\n",
              "      <th>2015-01-07</th>\n",
              "      <td>297.500000</td>\n",
              "      <td>301.279999</td>\n",
              "      <td>295.329987</td>\n",
              "      <td>298.420013</td>\n",
              "      <td>298.420013</td>\n",
              "      <td>2640300</td>\n",
              "    </tr>\n",
              "    <tr>\n",
              "      <th>2015-01-08</th>\n",
              "      <td>300.320007</td>\n",
              "      <td>303.140015</td>\n",
              "      <td>296.109985</td>\n",
              "      <td>300.459991</td>\n",
              "      <td>300.459991</td>\n",
              "      <td>3088400</td>\n",
              "    </tr>\n",
              "  </tbody>\n",
              "</table>\n",
              "</div>"
            ],
            "text/plain": [
              "                  Open        High         Low       Close   Adj Close   Volume\n",
              "Date                                                                           \n",
              "2015-01-02  312.579987  314.750000  306.959991  308.519989  308.519989  2783200\n",
              "2015-01-05  307.010010  308.380005  300.850006  302.190002  302.190002  2774200\n",
              "2015-01-06  302.239990  303.000000  292.380005  295.290009  295.290009  3519000\n",
              "2015-01-07  297.500000  301.279999  295.329987  298.420013  298.420013  2640300\n",
              "2015-01-08  300.320007  303.140015  296.109985  300.459991  300.459991  3088400"
            ]
          },
          "metadata": {},
          "execution_count": 30
        }
      ]
    },
    {
      "cell_type": "code",
      "metadata": {
        "id": "a5zc3onb57u9"
      },
      "source": [
        "x = amazon[['High','Low','Open','Volume']].values\n",
        "y = amazon['Close'].values"
      ],
      "execution_count": 32,
      "outputs": []
    },
    {
      "cell_type": "code",
      "metadata": {
        "colab": {
          "base_uri": "https://localhost:8080/"
        },
        "id": "9qCcUcEs5_iO",
        "outputId": "336258bb-bf9f-4317-9812-7b791d82cb88"
      },
      "source": [
        "x_train,x_test,y_train,y_test=train_test_split(x,y,test_size=0.2,random_state=1)\n",
        "lc=LinearRegression()\n",
        "lc.fit(x_train,y_train)"
      ],
      "execution_count": 33,
      "outputs": [
        {
          "output_type": "execute_result",
          "data": {
            "text/plain": [
              "LinearRegression(copy_X=True, fit_intercept=True, n_jobs=None, normalize=False)"
            ]
          },
          "metadata": {},
          "execution_count": 33
        }
      ]
    },
    {
      "cell_type": "code",
      "metadata": {
        "id": "28C_VKT_6ChD"
      },
      "source": [
        "y_pred=lc.predict(x_test)"
      ],
      "execution_count": 34,
      "outputs": []
    },
    {
      "cell_type": "code",
      "metadata": {
        "colab": {
          "base_uri": "https://localhost:8080/"
        },
        "id": "DaLyoaxQ6EP8",
        "outputId": "bd3ee63b-8027-4a26-82c8-f51eae7ffc6e"
      },
      "source": [
        "y_pred"
      ],
      "execution_count": 22,
      "outputs": [
        {
          "output_type": "execute_result",
          "data": {
            "text/plain": [
              "array([166.93794606, 185.02486165, 106.8792974 ,  50.92543936,\n",
              "       226.32882861,  59.51332979,  43.00520503,  50.31354974,\n",
              "       105.9385319 , 111.6827426 ,  92.2153231 ,  94.4908235 ,\n",
              "        46.23534277,  41.20714713, 149.95184809, 106.62136682,\n",
              "       141.47953492, 109.77932208,  65.19638167, 143.26289774,\n",
              "       100.50411095,  57.97341504,  53.48780217, 241.14903422,\n",
              "        65.67724611,  73.34165971,  57.91527674, 189.60156326,\n",
              "       100.74327935,  64.38748781,  46.68498869,  54.72870472,\n",
              "        71.14651449,  52.70452836,  60.56082489, 179.76191519,\n",
              "       104.0792718 , 137.32224013,  89.14445476, 137.93706427,\n",
              "       207.11249646, 130.28959777,  69.30521538,  68.65547102,\n",
              "        45.97797434,  47.15887713, 173.71909323,  64.68237793,\n",
              "        58.0224203 , 139.90340366, 238.9308743 ,  55.51324317,\n",
              "        42.0906213 , 141.82918747,  70.00511096, 221.32229109,\n",
              "       105.17081978, 155.31599289,  71.75024985,  77.68573642,\n",
              "       138.99538483,  41.50844839, 183.50647778,  77.52364801,\n",
              "       111.1079973 ,  95.38749005,  52.68497475,  48.70025382,\n",
              "        40.82535762,  65.34739805,  63.32612194,  45.96615858,\n",
              "        96.78368836,  47.45025366,  56.37034352,  50.22813053,\n",
              "        64.75316911, 254.05073189,  45.7349064 , 134.22439479,\n",
              "        72.9542163 ,  63.45794728, 113.30174481,  57.38080435,\n",
              "        54.36886338, 186.23774477, 224.27568896, 229.67845906,\n",
              "        84.37234857,  62.99680727, 184.83741311,  50.04923743,\n",
              "       157.44310252, 108.34668703,  46.19494887,  47.3988579 ,\n",
              "        52.17172003, 138.69477224,  70.94078455,  68.53116625,\n",
              "       210.17729745, 125.72009576,  54.41473624, 247.13859233,\n",
              "        93.50924102, 203.07942454,  68.64491916,  71.79584901,\n",
              "       125.19189825,  51.44423726, 158.34886887, 125.31175957,\n",
              "        41.37467836,  92.1282841 , 166.08100181,  58.35254126,\n",
              "        44.43688655, 111.58922601, 230.92549586, 215.51016662,\n",
              "        56.08652251, 209.33269965,  46.0244261 ,  63.57913011,\n",
              "       112.33559398,  69.48541908,  55.62720896,  42.77010058,\n",
              "       173.0893634 ,  56.70148275,  56.96939011, 148.23380503,\n",
              "       230.12635978,  61.22939176,  51.40753252,  52.92035963,\n",
              "        47.22429949,  69.99175435,  64.40413546, 107.08566224,\n",
              "       130.18001723,  46.68553683, 122.6228483 , 138.12157372,\n",
              "       210.08246906,  64.17446643,  43.41507362, 165.71243763,\n",
              "       207.18568449, 159.73377872,  53.73640486, 107.16012366,\n",
              "        73.97760273,  44.1583498 ,  52.70142721,  78.89362451,\n",
              "       135.09553671, 211.31770053, 112.54531324, 104.24451728,\n",
              "       101.49656504, 111.7672363 , 116.36333044,  65.42299809,\n",
              "        54.33686742, 100.5203052 ,  97.89640059, 119.43480228,\n",
              "       134.64423486, 108.36099629,  53.66703626,  55.60856414,\n",
              "       141.83227729, 184.78380102,  49.01514014, 103.39299081,\n",
              "       109.73119484,  46.9069347 , 253.22371899,  74.73182486,\n",
              "       214.45663667,  70.4393547 ,  52.80028844, 105.13924945,\n",
              "        47.32614882,  97.8061778 ,  62.31632337,  65.13781298,\n",
              "        43.91163878, 136.26618239,  72.92798504, 186.90540897,\n",
              "       149.55680371,  57.43682514,  44.26350156, 195.85222001,\n",
              "        52.20989839,  52.34114569, 120.18150491, 162.24880583,\n",
              "        62.2107586 ,  81.4981459 , 107.22682492, 163.75817597,\n",
              "        59.36900408,  46.64937881,  73.16449826,  52.5099208 ,\n",
              "        79.18233279,  73.9059586 , 106.39171642,  74.65434139,\n",
              "        41.17387363,  83.73413144, 151.48721342, 243.92115567,\n",
              "       136.16706434,  65.3967566 ,  57.60185441,  92.6854834 ,\n",
              "        51.19235842, 111.66237375,  57.99504138,  73.47911958,\n",
              "       219.2479156 ,  52.61343995,  99.36789521,  75.55495014,\n",
              "       124.91524151, 120.08039039,  46.07276296,  57.48731461,\n",
              "       170.79571727, 212.78970889, 157.54806179,  74.98148362,\n",
              "        70.19321863, 100.34478763,  43.81459782,  50.34477919,\n",
              "       203.67497706, 147.25781594, 242.91358618, 214.73197825,\n",
              "       215.38783654, 133.50964425, 112.85643731, 121.28509899,\n",
              "       106.46366891,  74.44564097, 102.23925727, 149.36733105,\n",
              "        92.17505848,  64.84305327,  56.32037506,  73.17316556,\n",
              "        92.67857702,  53.57259008,  47.28399941,  55.11763736,\n",
              "        84.31155689,  64.25112475,  41.7098642 ,  53.40857636,\n",
              "       244.2415711 , 136.73392306, 138.8611615 , 209.69510764,\n",
              "        62.69681676, 119.85484448, 140.43541391,  40.5305826 ,\n",
              "        57.95000564, 209.24837773,  42.46280151,  51.96469562,\n",
              "       261.27667836, 225.85385318,  66.3624891 , 137.1145886 ,\n",
              "       182.37879734, 107.16287438,  60.86118789,  41.49198243,\n",
              "        47.51467653, 211.82043427, 127.15415868, 107.02560686,\n",
              "       114.5944143 ,  95.56265382, 116.62845621, 154.63745233,\n",
              "       176.69035697, 211.59766771,  83.12540664,  73.3411632 ,\n",
              "       200.11045064, 233.9349631 ,  96.16089831, 233.07727619,\n",
              "        97.74653809,  54.13392375, 144.74327342, 157.44654736,\n",
              "       242.61052088,  51.33817627,  65.01403332,  49.78467396,\n",
              "       111.67161623, 213.17203203,  57.2648888 ,  73.25277427,\n",
              "       216.26475015,  52.81853888, 183.50409425,  54.09361927,\n",
              "       215.88268389,  69.50398056,  47.76255076, 152.67682023,\n",
              "        65.47504995,  65.10724754, 157.69977803,  63.42567193,\n",
              "        74.57403095,  93.27854566,  72.55012756])"
            ]
          },
          "metadata": {},
          "execution_count": 22
        }
      ]
    },
    {
      "cell_type": "code",
      "metadata": {
        "colab": {
          "base_uri": "https://localhost:8080/",
          "height": 665
        },
        "id": "RG6R4KAv6GOs",
        "outputId": "383a8413-3cdc-405e-e94b-52cd3975700c"
      },
      "source": [
        "data=pd.DataFrame({'Actual':y_test.flatten(),'Predicted':y_pred.flatten()})\n",
        "data.head(20)"
      ],
      "execution_count": 35,
      "outputs": [
        {
          "output_type": "execute_result",
          "data": {
            "text/html": [
              "<div>\n",
              "<style scoped>\n",
              "    .dataframe tbody tr th:only-of-type {\n",
              "        vertical-align: middle;\n",
              "    }\n",
              "\n",
              "    .dataframe tbody tr th {\n",
              "        vertical-align: top;\n",
              "    }\n",
              "\n",
              "    .dataframe thead th {\n",
              "        text-align: right;\n",
              "    }\n",
              "</style>\n",
              "<table border=\"1\" class=\"dataframe\">\n",
              "  <thead>\n",
              "    <tr style=\"text-align: right;\">\n",
              "      <th></th>\n",
              "      <th>Actual</th>\n",
              "      <th>Predicted</th>\n",
              "    </tr>\n",
              "  </thead>\n",
              "  <tbody>\n",
              "    <tr>\n",
              "      <th>0</th>\n",
              "      <td>1858.000000</td>\n",
              "      <td>1866.063683</td>\n",
              "    </tr>\n",
              "    <tr>\n",
              "      <th>1</th>\n",
              "      <td>2150.800049</td>\n",
              "      <td>2168.297560</td>\n",
              "    </tr>\n",
              "    <tr>\n",
              "      <th>2</th>\n",
              "      <td>1591.910034</td>\n",
              "      <td>1600.644591</td>\n",
              "    </tr>\n",
              "    <tr>\n",
              "      <th>3</th>\n",
              "      <td>575.020020</td>\n",
              "      <td>582.709579</td>\n",
              "    </tr>\n",
              "    <tr>\n",
              "      <th>4</th>\n",
              "      <td>3499.120117</td>\n",
              "      <td>3491.770969</td>\n",
              "    </tr>\n",
              "    <tr>\n",
              "      <th>5</th>\n",
              "      <td>785.409973</td>\n",
              "      <td>783.944060</td>\n",
              "    </tr>\n",
              "    <tr>\n",
              "      <th>6</th>\n",
              "      <td>389.799988</td>\n",
              "      <td>391.667728</td>\n",
              "    </tr>\n",
              "    <tr>\n",
              "      <th>7</th>\n",
              "      <td>717.510010</td>\n",
              "      <td>712.292681</td>\n",
              "    </tr>\n",
              "    <tr>\n",
              "      <th>8</th>\n",
              "      <td>1640.260010</td>\n",
              "      <td>1642.988783</td>\n",
              "    </tr>\n",
              "    <tr>\n",
              "      <th>9</th>\n",
              "      <td>1641.089966</td>\n",
              "      <td>1629.457093</td>\n",
              "    </tr>\n",
              "    <tr>\n",
              "      <th>10</th>\n",
              "      <td>1429.949951</td>\n",
              "      <td>1445.434930</td>\n",
              "    </tr>\n",
              "    <tr>\n",
              "      <th>11</th>\n",
              "      <td>1517.959961</td>\n",
              "      <td>1517.237958</td>\n",
              "    </tr>\n",
              "    <tr>\n",
              "      <th>12</th>\n",
              "      <td>429.920013</td>\n",
              "      <td>430.445169</td>\n",
              "    </tr>\n",
              "    <tr>\n",
              "      <th>13</th>\n",
              "      <td>370.579987</td>\n",
              "      <td>370.425591</td>\n",
              "    </tr>\n",
              "    <tr>\n",
              "      <th>14</th>\n",
              "      <td>1740.479980</td>\n",
              "      <td>1745.492692</td>\n",
              "    </tr>\n",
              "    <tr>\n",
              "      <th>15</th>\n",
              "      <td>1641.030029</td>\n",
              "      <td>1626.350503</td>\n",
              "    </tr>\n",
              "    <tr>\n",
              "      <th>16</th>\n",
              "      <td>1943.050049</td>\n",
              "      <td>1936.350888</td>\n",
              "    </tr>\n",
              "    <tr>\n",
              "      <th>17</th>\n",
              "      <td>1663.540039</td>\n",
              "      <td>1692.283390</td>\n",
              "    </tr>\n",
              "    <tr>\n",
              "      <th>18</th>\n",
              "      <td>899.200012</td>\n",
              "      <td>902.428819</td>\n",
              "    </tr>\n",
              "    <tr>\n",
              "      <th>19</th>\n",
              "      <td>1689.150024</td>\n",
              "      <td>1724.997770</td>\n",
              "    </tr>\n",
              "  </tbody>\n",
              "</table>\n",
              "</div>"
            ],
            "text/plain": [
              "         Actual    Predicted\n",
              "0   1858.000000  1866.063683\n",
              "1   2150.800049  2168.297560\n",
              "2   1591.910034  1600.644591\n",
              "3    575.020020   582.709579\n",
              "4   3499.120117  3491.770969\n",
              "5    785.409973   783.944060\n",
              "6    389.799988   391.667728\n",
              "7    717.510010   712.292681\n",
              "8   1640.260010  1642.988783\n",
              "9   1641.089966  1629.457093\n",
              "10  1429.949951  1445.434930\n",
              "11  1517.959961  1517.237958\n",
              "12   429.920013   430.445169\n",
              "13   370.579987   370.425591\n",
              "14  1740.479980  1745.492692\n",
              "15  1641.030029  1626.350503\n",
              "16  1943.050049  1936.350888\n",
              "17  1663.540039  1692.283390\n",
              "18   899.200012   902.428819\n",
              "19  1689.150024  1724.997770"
            ]
          },
          "metadata": {},
          "execution_count": 35
        }
      ]
    },
    {
      "cell_type": "code",
      "metadata": {
        "colab": {
          "base_uri": "https://localhost:8080/"
        },
        "id": "Cs_YZ1M96IwW",
        "outputId": "bd9a2503-6690-4a83-b461-8f0e3491dea3"
      },
      "source": [
        "import math\n",
        "print('Mean Absolute Error:',metrics.mean_absolute_error(y_test,y_pred))\n",
        "print('Mean Squared Error',metrics.mean_squared_error(y_test,y_pred))\n",
        "print('Root Mean Squared Error',math.sqrt(metrics.mean_squared_error(y_test,y_pred)))"
      ],
      "execution_count": 36,
      "outputs": [
        {
          "output_type": "stream",
          "text": [
            "Mean Absolute Error: 6.997388141641244\n",
            "Mean Squared Error 142.22998952705098\n",
            "Root Mean Squared Error 11.926021529707674\n"
          ],
          "name": "stdout"
        }
      ]
    },
    {
      "cell_type": "code",
      "metadata": {
        "id": "FBY_gbj46Kj-"
      },
      "source": [
        "graph=data.head(20)"
      ],
      "execution_count": 37,
      "outputs": []
    },
    {
      "cell_type": "code",
      "metadata": {
        "colab": {
          "base_uri": "https://localhost:8080/",
          "height": 285
        },
        "id": "I93fYaVR6MYD",
        "outputId": "0d34adc7-c156-4fdb-ea92-ff06363c198f"
      },
      "source": [
        "graph.plot(kind='bar')"
      ],
      "execution_count": 38,
      "outputs": [
        {
          "output_type": "execute_result",
          "data": {
            "text/plain": [
              "<matplotlib.axes._subplots.AxesSubplot at 0x7fcd96370f50>"
            ]
          },
          "metadata": {},
          "execution_count": 38
        },
        {
          "output_type": "display_data",
          "data": {
            "image/png": "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\n",
            "text/plain": [
              "<Figure size 432x288 with 1 Axes>"
            ]
          },
          "metadata": {
            "needs_background": "light"
          }
        }
      ]
    },
    {
      "cell_type": "code",
      "metadata": {
        "colab": {
          "base_uri": "https://localhost:8080/",
          "height": 522
        },
        "id": "8cqeM6G66N7q",
        "outputId": "a53aca17-c255-46f8-a758-440ae53388a0"
      },
      "source": [
        "hi=input(\"Enter the maximum price of the share today: \")\n",
        "lo=input(\"Enter the close price at which the stock is traded today: \")\n",
        "op=input(\"Enter the open price at which the stock is traded today: \")\n",
        "vol=input(\"Enter number of shares sold that day: \")"
      ],
      "execution_count": 15,
      "outputs": [
        {
          "output_type": "error",
          "ename": "KeyboardInterrupt",
          "evalue": "ignored",
          "traceback": [
            "\u001b[0;31m---------------------------------------------------------------------------\u001b[0m",
            "\u001b[0;31mKeyboardInterrupt\u001b[0m                         Traceback (most recent call last)",
            "\u001b[0;32m/usr/local/lib/python3.7/dist-packages/ipykernel/kernelbase.py\u001b[0m in \u001b[0;36m_input_request\u001b[0;34m(self, prompt, ident, parent, password)\u001b[0m\n\u001b[1;32m    728\u001b[0m             \u001b[0;32mtry\u001b[0m\u001b[0;34m:\u001b[0m\u001b[0;34m\u001b[0m\u001b[0;34m\u001b[0m\u001b[0m\n\u001b[0;32m--> 729\u001b[0;31m                 \u001b[0mident\u001b[0m\u001b[0;34m,\u001b[0m \u001b[0mreply\u001b[0m \u001b[0;34m=\u001b[0m \u001b[0mself\u001b[0m\u001b[0;34m.\u001b[0m\u001b[0msession\u001b[0m\u001b[0;34m.\u001b[0m\u001b[0mrecv\u001b[0m\u001b[0;34m(\u001b[0m\u001b[0mself\u001b[0m\u001b[0;34m.\u001b[0m\u001b[0mstdin_socket\u001b[0m\u001b[0;34m,\u001b[0m \u001b[0;36m0\u001b[0m\u001b[0;34m)\u001b[0m\u001b[0;34m\u001b[0m\u001b[0;34m\u001b[0m\u001b[0m\n\u001b[0m\u001b[1;32m    730\u001b[0m             \u001b[0;32mexcept\u001b[0m \u001b[0mException\u001b[0m\u001b[0;34m:\u001b[0m\u001b[0;34m\u001b[0m\u001b[0;34m\u001b[0m\u001b[0m\n",
            "\u001b[0;32m/usr/local/lib/python3.7/dist-packages/jupyter_client/session.py\u001b[0m in \u001b[0;36mrecv\u001b[0;34m(self, socket, mode, content, copy)\u001b[0m\n\u001b[1;32m    802\u001b[0m         \u001b[0;32mtry\u001b[0m\u001b[0;34m:\u001b[0m\u001b[0;34m\u001b[0m\u001b[0;34m\u001b[0m\u001b[0m\n\u001b[0;32m--> 803\u001b[0;31m             \u001b[0mmsg_list\u001b[0m \u001b[0;34m=\u001b[0m \u001b[0msocket\u001b[0m\u001b[0;34m.\u001b[0m\u001b[0mrecv_multipart\u001b[0m\u001b[0;34m(\u001b[0m\u001b[0mmode\u001b[0m\u001b[0;34m,\u001b[0m \u001b[0mcopy\u001b[0m\u001b[0;34m=\u001b[0m\u001b[0mcopy\u001b[0m\u001b[0;34m)\u001b[0m\u001b[0;34m\u001b[0m\u001b[0;34m\u001b[0m\u001b[0m\n\u001b[0m\u001b[1;32m    804\u001b[0m         \u001b[0;32mexcept\u001b[0m \u001b[0mzmq\u001b[0m\u001b[0;34m.\u001b[0m\u001b[0mZMQError\u001b[0m \u001b[0;32mas\u001b[0m \u001b[0me\u001b[0m\u001b[0;34m:\u001b[0m\u001b[0;34m\u001b[0m\u001b[0;34m\u001b[0m\u001b[0m\n",
            "\u001b[0;32m/usr/local/lib/python3.7/dist-packages/zmq/sugar/socket.py\u001b[0m in \u001b[0;36mrecv_multipart\u001b[0;34m(self, flags, copy, track)\u001b[0m\n\u001b[1;32m    618\u001b[0m         \"\"\"\n\u001b[0;32m--> 619\u001b[0;31m         \u001b[0mparts\u001b[0m \u001b[0;34m=\u001b[0m \u001b[0;34m[\u001b[0m\u001b[0mself\u001b[0m\u001b[0;34m.\u001b[0m\u001b[0mrecv\u001b[0m\u001b[0;34m(\u001b[0m\u001b[0mflags\u001b[0m\u001b[0;34m,\u001b[0m \u001b[0mcopy\u001b[0m\u001b[0;34m=\u001b[0m\u001b[0mcopy\u001b[0m\u001b[0;34m,\u001b[0m \u001b[0mtrack\u001b[0m\u001b[0;34m=\u001b[0m\u001b[0mtrack\u001b[0m\u001b[0;34m)\u001b[0m\u001b[0;34m]\u001b[0m\u001b[0;34m\u001b[0m\u001b[0;34m\u001b[0m\u001b[0m\n\u001b[0m\u001b[1;32m    620\u001b[0m         \u001b[0;31m# have first part already, only loop while more to receive\u001b[0m\u001b[0;34m\u001b[0m\u001b[0;34m\u001b[0m\u001b[0;34m\u001b[0m\u001b[0m\n",
            "\u001b[0;32mzmq/backend/cython/socket.pyx\u001b[0m in \u001b[0;36mzmq.backend.cython.socket.Socket.recv\u001b[0;34m()\u001b[0m\n",
            "\u001b[0;32mzmq/backend/cython/socket.pyx\u001b[0m in \u001b[0;36mzmq.backend.cython.socket.Socket.recv\u001b[0;34m()\u001b[0m\n",
            "\u001b[0;32mzmq/backend/cython/socket.pyx\u001b[0m in \u001b[0;36mzmq.backend.cython.socket._recv_copy\u001b[0;34m()\u001b[0m\n",
            "\u001b[0;32m/usr/local/lib/python3.7/dist-packages/zmq/backend/cython/checkrc.pxd\u001b[0m in \u001b[0;36mzmq.backend.cython.checkrc._check_rc\u001b[0;34m()\u001b[0m\n",
            "\u001b[0;31mKeyboardInterrupt\u001b[0m: ",
            "\nDuring handling of the above exception, another exception occurred:\n",
            "\u001b[0;31mKeyboardInterrupt\u001b[0m                         Traceback (most recent call last)",
            "\u001b[0;32m<ipython-input-15-ad250eda0b18>\u001b[0m in \u001b[0;36m<module>\u001b[0;34m()\u001b[0m\n\u001b[0;32m----> 1\u001b[0;31m \u001b[0mhi\u001b[0m\u001b[0;34m=\u001b[0m\u001b[0minput\u001b[0m\u001b[0;34m(\u001b[0m\u001b[0;34m\"Enter the maximum price of the share today: \"\u001b[0m\u001b[0;34m)\u001b[0m\u001b[0;34m\u001b[0m\u001b[0;34m\u001b[0m\u001b[0m\n\u001b[0m\u001b[1;32m      2\u001b[0m \u001b[0mlo\u001b[0m\u001b[0;34m=\u001b[0m\u001b[0minput\u001b[0m\u001b[0;34m(\u001b[0m\u001b[0;34m\"Enter the close price at which the stock is traded today: \"\u001b[0m\u001b[0;34m)\u001b[0m\u001b[0;34m\u001b[0m\u001b[0;34m\u001b[0m\u001b[0m\n\u001b[1;32m      3\u001b[0m \u001b[0mop\u001b[0m\u001b[0;34m=\u001b[0m\u001b[0minput\u001b[0m\u001b[0;34m(\u001b[0m\u001b[0;34m\"Enter the open price at which the stock is traded today: \"\u001b[0m\u001b[0;34m)\u001b[0m\u001b[0;34m\u001b[0m\u001b[0;34m\u001b[0m\u001b[0m\n\u001b[1;32m      4\u001b[0m \u001b[0mvol\u001b[0m\u001b[0;34m=\u001b[0m\u001b[0minput\u001b[0m\u001b[0;34m(\u001b[0m\u001b[0;34m\"Enter number of shares sold that day: \"\u001b[0m\u001b[0;34m)\u001b[0m\u001b[0;34m\u001b[0m\u001b[0;34m\u001b[0m\u001b[0m\n",
            "\u001b[0;32m/usr/local/lib/python3.7/dist-packages/ipykernel/kernelbase.py\u001b[0m in \u001b[0;36mraw_input\u001b[0;34m(self, prompt)\u001b[0m\n\u001b[1;32m    702\u001b[0m             \u001b[0mself\u001b[0m\u001b[0;34m.\u001b[0m\u001b[0m_parent_ident\u001b[0m\u001b[0;34m,\u001b[0m\u001b[0;34m\u001b[0m\u001b[0;34m\u001b[0m\u001b[0m\n\u001b[1;32m    703\u001b[0m             \u001b[0mself\u001b[0m\u001b[0;34m.\u001b[0m\u001b[0m_parent_header\u001b[0m\u001b[0;34m,\u001b[0m\u001b[0;34m\u001b[0m\u001b[0;34m\u001b[0m\u001b[0m\n\u001b[0;32m--> 704\u001b[0;31m             \u001b[0mpassword\u001b[0m\u001b[0;34m=\u001b[0m\u001b[0;32mFalse\u001b[0m\u001b[0;34m,\u001b[0m\u001b[0;34m\u001b[0m\u001b[0;34m\u001b[0m\u001b[0m\n\u001b[0m\u001b[1;32m    705\u001b[0m         )\n\u001b[1;32m    706\u001b[0m \u001b[0;34m\u001b[0m\u001b[0m\n",
            "\u001b[0;32m/usr/local/lib/python3.7/dist-packages/ipykernel/kernelbase.py\u001b[0m in \u001b[0;36m_input_request\u001b[0;34m(self, prompt, ident, parent, password)\u001b[0m\n\u001b[1;32m    732\u001b[0m             \u001b[0;32mexcept\u001b[0m \u001b[0mKeyboardInterrupt\u001b[0m\u001b[0;34m:\u001b[0m\u001b[0;34m\u001b[0m\u001b[0;34m\u001b[0m\u001b[0m\n\u001b[1;32m    733\u001b[0m                 \u001b[0;31m# re-raise KeyboardInterrupt, to truncate traceback\u001b[0m\u001b[0;34m\u001b[0m\u001b[0;34m\u001b[0m\u001b[0;34m\u001b[0m\u001b[0m\n\u001b[0;32m--> 734\u001b[0;31m                 \u001b[0;32mraise\u001b[0m \u001b[0mKeyboardInterrupt\u001b[0m\u001b[0;34m\u001b[0m\u001b[0;34m\u001b[0m\u001b[0m\n\u001b[0m\u001b[1;32m    735\u001b[0m             \u001b[0;32melse\u001b[0m\u001b[0;34m:\u001b[0m\u001b[0;34m\u001b[0m\u001b[0;34m\u001b[0m\u001b[0m\n\u001b[1;32m    736\u001b[0m                 \u001b[0;32mbreak\u001b[0m\u001b[0;34m\u001b[0m\u001b[0;34m\u001b[0m\u001b[0m\n",
            "\u001b[0;31mKeyboardInterrupt\u001b[0m: "
          ]
        }
      ]
    },
    {
      "cell_type": "code",
      "metadata": {
        "colab": {
          "base_uri": "https://localhost:8080/",
          "height": 162
        },
        "id": "ApCLlzmO6QN4",
        "outputId": "73cab33c-975c-4d76-a323-ed75c3ec0770"
      },
      "source": [
        "inp=([[hi,lo,op,vol]])"
      ],
        }
      ]
    },
    {
      "cell_type": "code",
      "metadata": {
        "id": "OqL679Nl6V8Y"
      },
      "source": [
        "output=lc.predict(inp)"
      ],
      "execution_count": null,
      "outputs": []
    }
  ]
}
