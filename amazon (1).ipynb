{
  "nbformat": 4,
  "nbformat_minor": 0,
  "metadata": {
    "colab": {
      "name": "amazon.ipynb",
      "provenance": []
    },
    "kernelspec": {
      "name": "python3",
      "display_name": "Python 3"
    },
    "language_info": {
      "name": "python"
    }
  },
  "cells": [
    {
      "cell_type": "code",
      "metadata": {
        "colab": {
          "base_uri": "https://localhost:8080/"
        },
        "id": "uTe8WXab5zRS",
        "outputId": "252f3684-b125-44a4-b236-07ea83be99f5"
      },
      "source": [
        "import pandas as pd\n",
        "\n",
        "import datetime\n",
        "\n",
        "import numpy as np\n",
        "\n",
        "import matplotlib.pyplot as plt\n",
        "\n",
        "from pandas.plotting import scatter_matrix\n",
        "\n",
        "!pip install yfinance\n",
        "\n",
        "import yfinance as yf\n",
        "\n",
        "%matplotlib inline\n",
        "from sklearn import preprocessing\n",
        "from sklearn import metrics\n",
        "from sklearn.model_selection import train_test_split\n",
        "from sklearn.linear_model import LinearRegression"
      ],
      "execution_count": 2,
      "outputs": [
        {
          "output_type": "stream",
          "text": [
            "Collecting yfinance\n",
            "  Downloading yfinance-0.1.63.tar.gz (26 kB)\n",
            "Requirement already satisfied: pandas>=0.24 in /usr/local/lib/python3.7/dist-packages (from yfinance) (1.1.5)\n",
            "Requirement already satisfied: numpy>=1.15 in /usr/local/lib/python3.7/dist-packages (from yfinance) (1.19.5)\n",
            "Requirement already satisfied: requests>=2.20 in /usr/local/lib/python3.7/dist-packages (from yfinance) (2.23.0)\n",
            "Requirement already satisfied: multitasking>=0.0.7 in /usr/local/lib/python3.7/dist-packages (from yfinance) (0.0.9)\n",
            "Collecting lxml>=4.5.1\n",
            "  Downloading lxml-4.6.3-cp37-cp37m-manylinux2014_x86_64.whl (6.3 MB)\n",
            "\u001b[K     |████████████████████████████████| 6.3 MB 12.5 MB/s \n",
            "\u001b[?25hRequirement already satisfied: python-dateutil>=2.7.3 in /usr/local/lib/python3.7/dist-packages (from pandas>=0.24->yfinance) (2.8.2)\n",
            "Requirement already satisfied: pytz>=2017.2 in /usr/local/lib/python3.7/dist-packages (from pandas>=0.24->yfinance) (2018.9)\n",
            "Requirement already satisfied: six>=1.5 in /usr/local/lib/python3.7/dist-packages (from python-dateutil>=2.7.3->pandas>=0.24->yfinance) (1.15.0)\n",
            "Requirement already satisfied: idna<3,>=2.5 in /usr/local/lib/python3.7/dist-packages (from requests>=2.20->yfinance) (2.10)\n",
            "Requirement already satisfied: certifi>=2017.4.17 in /usr/local/lib/python3.7/dist-packages (from requests>=2.20->yfinance) (2021.5.30)\n",
            "Requirement already satisfied: chardet<4,>=3.0.2 in /usr/local/lib/python3.7/dist-packages (from requests>=2.20->yfinance) (3.0.4)\n",
            "Requirement already satisfied: urllib3!=1.25.0,!=1.25.1,<1.26,>=1.21.1 in /usr/local/lib/python3.7/dist-packages (from requests>=2.20->yfinance) (1.24.3)\n",
            "Building wheels for collected packages: yfinance\n",
            "  Building wheel for yfinance (setup.py) ... \u001b[?25l\u001b[?25hdone\n",
            "  Created wheel for yfinance: filename=yfinance-0.1.63-py2.py3-none-any.whl size=23918 sha256=b375e5aad9de1fd63951ee174bd854fb4e2616ccad3b4c3ac4f378758111c810\n",
            "  Stored in directory: /root/.cache/pip/wheels/fe/87/8b/7ec24486e001d3926537f5f7801f57a74d181be25b11157983\n",
            "Successfully built yfinance\n",
            "Installing collected packages: lxml, yfinance\n",
            "  Attempting uninstall: lxml\n",
            "    Found existing installation: lxml 4.2.6\n",
            "    Uninstalling lxml-4.2.6:\n",
            "      Successfully uninstalled lxml-4.2.6\n",
            "Successfully installed lxml-4.6.3 yfinance-0.1.63\n"
          ],
          "name": "stdout"
        }
      ]
    },
    {
      "cell_type": "code",
      "metadata": {
        "colab": {
          "base_uri": "https://localhost:8080/"
        },
        "id": "_66DiRp55zy_",
        "outputId": "553d2c2a-6fb7-4056-d112-8856785e904d"
      },
      "source": [
        "start = \"2015-01-01\"\n",
        "end = '2021-07-01'\n",
        "amazon=yf.download('amzn',start,end)"
      ],
      "execution_count": 3,
      "outputs": [
        {
          "output_type": "stream",
          "text": [
            "\r[*********************100%***********************]  1 of 1 completed\n"
          ],
          "name": "stdout"
        }
      ]
    },
    {
      "cell_type": "code",
      "metadata": {
        "colab": {
          "base_uri": "https://localhost:8080/",
          "height": 234
        },
        "id": "MujpNmiD51eq",
        "outputId": "29f2bbd0-3172-412f-8d86-6ea42b24cfdd"
      },
      "source": [
        "amazon.head()"
      ],
      "execution_count": 4,
      "outputs": [
        {
          "output_type": "execute_result",
          "data": {
            "text/html": [
              "<div>\n",
              "<style scoped>\n",
              "    .dataframe tbody tr th:only-of-type {\n",
              "        vertical-align: middle;\n",
              "    }\n",
              "\n",
              "    .dataframe tbody tr th {\n",
              "        vertical-align: top;\n",
              "    }\n",
              "\n",
              "    .dataframe thead th {\n",
              "        text-align: right;\n",
              "    }\n",
              "</style>\n",
              "<table border=\"1\" class=\"dataframe\">\n",
              "  <thead>\n",
              "    <tr style=\"text-align: right;\">\n",
              "      <th></th>\n",
              "      <th>Open</th>\n",
              "      <th>High</th>\n",
              "      <th>Low</th>\n",
              "      <th>Close</th>\n",
              "      <th>Adj Close</th>\n",
              "      <th>Volume</th>\n",
              "    </tr>\n",
              "    <tr>\n",
              "      <th>Date</th>\n",
              "      <th></th>\n",
              "      <th></th>\n",
              "      <th></th>\n",
              "      <th></th>\n",
              "      <th></th>\n",
              "      <th></th>\n",
              "    </tr>\n",
              "  </thead>\n",
              "  <tbody>\n",
              "    <tr>\n",
              "      <th>2015-01-02</th>\n",
              "      <td>312.579987</td>\n",
              "      <td>314.750000</td>\n",
              "      <td>306.959991</td>\n",
              "      <td>308.519989</td>\n",
              "      <td>308.519989</td>\n",
              "      <td>2783200</td>\n",
              "    </tr>\n",
              "    <tr>\n",
              "      <th>2015-01-05</th>\n",
              "      <td>307.010010</td>\n",
              "      <td>308.380005</td>\n",
              "      <td>300.850006</td>\n",
              "      <td>302.190002</td>\n",
              "      <td>302.190002</td>\n",
              "      <td>2774200</td>\n",
              "    </tr>\n",
              "    <tr>\n",
              "      <th>2015-01-06</th>\n",
              "      <td>302.239990</td>\n",
              "      <td>303.000000</td>\n",
              "      <td>292.380005</td>\n",
              "      <td>295.290009</td>\n",
              "      <td>295.290009</td>\n",
              "      <td>3519000</td>\n",
              "    </tr>\n",
              "    <tr>\n",
              "      <th>2015-01-07</th>\n",
              "      <td>297.500000</td>\n",
              "      <td>301.279999</td>\n",
              "      <td>295.329987</td>\n",
              "      <td>298.420013</td>\n",
              "      <td>298.420013</td>\n",
              "      <td>2640300</td>\n",
              "    </tr>\n",
              "    <tr>\n",
              "      <th>2015-01-08</th>\n",
              "      <td>300.320007</td>\n",
              "      <td>303.140015</td>\n",
              "      <td>296.109985</td>\n",
              "      <td>300.459991</td>\n",
              "      <td>300.459991</td>\n",
              "      <td>3088400</td>\n",
              "    </tr>\n",
              "  </tbody>\n",
              "</table>\n",
              "</div>"
            ],
            "text/plain": [
              "                  Open        High         Low       Close   Adj Close   Volume\n",
              "Date                                                                           \n",
              "2015-01-02  312.579987  314.750000  306.959991  308.519989  308.519989  2783200\n",
              "2015-01-05  307.010010  308.380005  300.850006  302.190002  302.190002  2774200\n",
              "2015-01-06  302.239990  303.000000  292.380005  295.290009  295.290009  3519000\n",
              "2015-01-07  297.500000  301.279999  295.329987  298.420013  298.420013  2640300\n",
              "2015-01-08  300.320007  303.140015  296.109985  300.459991  300.459991  3088400"
            ]
          },
          "metadata": {},
          "execution_count": 4
        }
      ]
    },
    {
      "cell_type": "code",
      "metadata": {
        "id": "a5zc3onb57u9"
      },
      "source": [
        "x = amazon[['High','Low','Open','Volume']].values\n",
        "y = amazon['Close'].values"
      ],
      "execution_count": 5,
      "outputs": []
    },
    {
      "cell_type": "code",
      "metadata": {
        "colab": {
          "base_uri": "https://localhost:8080/"
        },
        "id": "9qCcUcEs5_iO",
        "outputId": "b70fb16b-8cb9-474e-ca94-55f550864bfe"
      },
      "source": [
        "x_train,x_test,y_train,y_test=train_test_split(x,y,test_size=0.2,random_state=1)\n",
        "lc=LinearRegression()\n",
        "lc.fit(x_train,y_train)"
      ],
      "execution_count": 6,
      "outputs": [
        {
          "output_type": "execute_result",
          "data": {
            "text/plain": [
              "LinearRegression(copy_X=True, fit_intercept=True, n_jobs=None, normalize=False)"
            ]
          },
          "metadata": {},
          "execution_count": 6
        }
      ]
    },
    {
      "cell_type": "code",
      "metadata": {
        "id": "28C_VKT_6ChD"
      },
      "source": [
        "y_pred=lc.predict(x_test)"
      ],
      "execution_count": 7,
      "outputs": []
    },
    {
      "cell_type": "code",
      "metadata": {
        "colab": {
          "base_uri": "https://localhost:8080/"
        },
        "id": "DaLyoaxQ6EP8",
        "outputId": "039da975-0d35-41a1-9810-c78b16cc2e63"
      },
      "source": [
        "y_pred"
      ],
      "execution_count": 8,
      "outputs": [
        {
          "output_type": "execute_result",
          "data": {
            "text/plain": [
              "array([1866.06368314, 2168.29756033, 1600.64459081,  582.70957866,\n",
              "       3491.77096852,  783.94405993,  391.66772759,  712.29268134,\n",
              "       1642.9887833 , 1629.45709333, 1445.43493045, 1517.23795759,\n",
              "        430.44516881,  370.42559076, 1745.4926917 , 1626.35050346,\n",
              "       1936.35088821, 1692.28339024,  902.42881903, 1724.99776955,\n",
              "       1720.52028028,  774.42296955,  577.25133919, 3267.29807061,\n",
              "        907.1456334 ,  937.97774424,  772.77386152, 2604.88145776,\n",
              "       1503.33021851,  840.97101464,  533.49361423,  560.8899914 ,\n",
              "       1005.93331287,  579.11421013,  775.85735595, 2040.86075923,\n",
              "       1663.05937596, 1807.53850407, 1421.92720218, 1751.64878244,\n",
              "       2915.4293805 , 1916.98045452,  973.72748532,  976.14061832,\n",
              "        423.93045751,  537.93825451, 2033.95257941,  849.44823047,\n",
              "        757.83606489, 1787.58589185, 3323.43247546,  672.23731014,\n",
              "        504.28247443, 1828.42118404, 1002.71077229, 3230.38957204,\n",
              "       1637.86875658, 1786.10908524,  987.94622306, 1003.61462872,\n",
              "       1824.68848405,  466.21990691, 2372.75853233, 1010.07199489,\n",
              "       1968.75155503, 1514.15778381,  553.81479526,  430.9919483 ,\n",
              "        376.20695383,  898.38705684,  773.31662681,  292.18177714,\n",
              "       1599.36725385,  560.55079047,  764.53965489,  709.7865862 ,\n",
              "        847.22128664, 3472.00097557,  424.25569907, 1906.91363583,\n",
              "        964.78014713,  814.32143572, 1947.51003999,  834.41637393,\n",
              "        576.97047022, 2474.66814394, 3335.76209618, 3004.38487684,\n",
              "       1130.7850687 ,  836.4262506 , 2475.39869405,  507.55343337,\n",
              "       1789.86229504, 1598.96216044,  545.24801756,  556.829836  ,\n",
              "        594.85391755, 1979.90566488, 1001.45738732,  946.49830146,\n",
              "       3032.03618326, 1926.01615598,  667.71095662, 3299.41085966,\n",
              "       1392.76773206, 3054.62539375,  968.84571771, 1009.38216675,\n",
              "       1725.07255315,  618.36835605, 1895.89085524, 1919.33347797,\n",
              "        380.99373205, 1486.62624856, 1879.87305636,  843.07764907,\n",
              "        438.11754708, 1746.52976277, 3058.59207784, 3168.25514688,\n",
              "        743.88963147, 3185.79846442,  299.60000459,  820.41770984,\n",
              "       2013.17946769,  947.59418498,  679.79874975,  379.52105666,\n",
              "       2375.59188841,  769.38328342,  780.96605469, 1762.75508574,\n",
              "       2909.88346564,  765.10938025,  585.8094564 ,  557.43021721,\n",
              "        310.65535314,  993.90971733,  845.35624006, 1900.77283443,\n",
              "       1909.50055357,  438.07926127, 1863.79713728, 1740.43328645,\n",
              "       3145.39462257,  827.16489068,  376.52313208, 1872.26911695,\n",
              "       3048.32229952, 1900.05454836,  551.9315077 , 1825.75302141,\n",
              "       1029.14566029,  388.49939349,  528.44068227,  975.27362016,\n",
              "       1701.09599788, 3230.71622226, 1648.17835559, 1657.08951025,\n",
              "       1660.46871084, 1913.28493295, 1757.09380876,  832.78935356,\n",
              "        590.49605466, 1644.17980958, 1517.66425853, 1841.58971262,\n",
              "       1757.22527295, 1769.4165344 ,  578.51333631,  674.50120304,\n",
              "       1774.14598364, 2411.99201139,  433.17549146, 1549.91211728,\n",
              "       1718.48795304,  432.3414525 , 3305.63661103,  957.88118242,\n",
              "       3167.40783489,  988.83334261,  616.75863283, 1844.52120982,\n",
              "        429.97560365, 1578.85776877,  757.56961979,  848.30476418,\n",
              "        538.18988425, 1947.70254904,  950.66446768, 2514.69275831,\n",
              "       1917.78715793,  765.47273757,  524.98175911, 2679.64770495,\n",
              "        713.89734368,  709.25746207, 1837.68621807, 1833.99199612,\n",
              "        760.30376435, 1139.58891661, 1720.92281669, 1864.6140143 ,\n",
              "        774.81262026,  544.28742049,  966.24080627,  616.65949951,\n",
              "        968.30820614,  979.6454549 , 1590.16587806,  979.14308653,\n",
              "        372.32805488, 1157.14734491, 1740.85565787, 3321.76715483,\n",
              "       1889.88938581,  874.08881104,  806.77608161, 1436.21428755,\n",
              "        551.61094565, 1987.47036794,  767.19585504, 1040.25651045,\n",
              "       3238.46328433,  567.1116272 , 1632.180024  ,  971.01695272,\n",
              "       1908.21670931, 1812.41085877,  443.18780959,  784.71109068,\n",
              "       2321.4620239 , 3116.95132997, 1790.68258381,  994.05715109,\n",
              "        999.81264895, 1487.82198431,  506.91970009,  718.61030449,\n",
              "       3116.63859026, 1782.36754057, 3320.73794494, 3139.06415531,\n",
              "       3205.38745495, 1870.1968325 , 1630.05500243, 1866.57385251,\n",
              "       1580.26705991,  978.90543787, 1626.99361497, 1748.5829942 ,\n",
              "       1496.43985726,  855.85804355,  762.78879462, 1021.56654723,\n",
              "       1424.40465781,  624.77495142,  437.10552382,  662.21945556,\n",
              "       1124.43506002,  855.13188903,  366.67531465,  603.68588784,\n",
              "       3261.43110587, 1979.10046684, 1975.89172862, 3188.00505881,\n",
              "        818.88932623, 1816.70333723, 1992.83676604,  357.65396919,\n",
              "        767.91046571, 3157.05759862,  372.96949694,  589.22746983,\n",
              "       3399.57913574, 3289.08369688,  899.50428909, 1818.84393795,\n",
              "       2426.89556713, 1610.23323039,  767.96964025,  371.04660061,\n",
              "        424.94301103, 3121.71476907, 1842.51595336, 1661.33059176,\n",
              "       1923.26119065, 1587.39403996, 1763.95001237, 1906.58467802,\n",
              "       2296.32232477, 3064.57844869, 1127.57431299, 1013.05592597,\n",
              "       2978.46694534, 3199.56463073, 1522.79829536, 3071.01400236,\n",
              "       1583.47641245,  674.65476684, 1790.00796468, 1843.92212758,\n",
              "       3269.85792258,  549.55301073,  847.27766309,  672.56680486,\n",
              "       1736.40500839, 3147.34224845,  832.09079684,  986.4366647 ,\n",
              "       3188.55126051,  753.24079984, 2345.07789546,  624.73230603,\n",
              "       3150.28592121,  986.41090379,  437.5420556 , 1758.41540235,\n",
              "        900.2217439 ,  903.63139144, 1900.50767777,  806.1749545 ,\n",
              "        957.23944035, 1539.88074214,  992.14116083])"
            ]
          },
          "metadata": {},
          "execution_count": 8
        }
      ]
    },
    {
      "cell_type": "code",
      "metadata": {
        "colab": {
          "base_uri": "https://localhost:8080/",
          "height": 665
        },
        "id": "RG6R4KAv6GOs",
        "outputId": "15b2e8db-e3a1-4a0f-a03f-85b45f04fb3f"
      },
      "source": [
        "data=pd.DataFrame({'Actual':y_test.flatten(),'Predicted':y_pred.flatten()})\n",
        "data.head(20)"
      ],
      "execution_count": 9,
      "outputs": [
        {
          "output_type": "execute_result",
          "data": {
            "text/html": [
              "<div>\n",
              "<style scoped>\n",
              "    .dataframe tbody tr th:only-of-type {\n",
              "        vertical-align: middle;\n",
              "    }\n",
              "\n",
              "    .dataframe tbody tr th {\n",
              "        vertical-align: top;\n",
              "    }\n",
              "\n",
              "    .dataframe thead th {\n",
              "        text-align: right;\n",
              "    }\n",
              "</style>\n",
              "<table border=\"1\" class=\"dataframe\">\n",
              "  <thead>\n",
              "    <tr style=\"text-align: right;\">\n",
              "      <th></th>\n",
              "      <th>Actual</th>\n",
              "      <th>Predicted</th>\n",
              "    </tr>\n",
              "  </thead>\n",
              "  <tbody>\n",
              "    <tr>\n",
              "      <th>0</th>\n",
              "      <td>1858.000000</td>\n",
              "      <td>1866.063683</td>\n",
              "    </tr>\n",
              "    <tr>\n",
              "      <th>1</th>\n",
              "      <td>2150.800049</td>\n",
              "      <td>2168.297560</td>\n",
              "    </tr>\n",
              "    <tr>\n",
              "      <th>2</th>\n",
              "      <td>1591.910034</td>\n",
              "      <td>1600.644591</td>\n",
              "    </tr>\n",
              "    <tr>\n",
              "      <th>3</th>\n",
              "      <td>575.020020</td>\n",
              "      <td>582.709579</td>\n",
              "    </tr>\n",
              "    <tr>\n",
              "      <th>4</th>\n",
              "      <td>3499.120117</td>\n",
              "      <td>3491.770969</td>\n",
              "    </tr>\n",
              "    <tr>\n",
              "      <th>5</th>\n",
              "      <td>785.409973</td>\n",
              "      <td>783.944060</td>\n",
              "    </tr>\n",
              "    <tr>\n",
              "      <th>6</th>\n",
              "      <td>389.799988</td>\n",
              "      <td>391.667728</td>\n",
              "    </tr>\n",
              "    <tr>\n",
              "      <th>7</th>\n",
              "      <td>717.510010</td>\n",
              "      <td>712.292681</td>\n",
              "    </tr>\n",
              "    <tr>\n",
              "      <th>8</th>\n",
              "      <td>1640.260010</td>\n",
              "      <td>1642.988783</td>\n",
              "    </tr>\n",
              "    <tr>\n",
              "      <th>9</th>\n",
              "      <td>1641.089966</td>\n",
              "      <td>1629.457093</td>\n",
              "    </tr>\n",
              "    <tr>\n",
              "      <th>10</th>\n",
              "      <td>1429.949951</td>\n",
              "      <td>1445.434930</td>\n",
              "    </tr>\n",
              "    <tr>\n",
              "      <th>11</th>\n",
              "      <td>1517.959961</td>\n",
              "      <td>1517.237958</td>\n",
              "    </tr>\n",
              "    <tr>\n",
              "      <th>12</th>\n",
              "      <td>429.920013</td>\n",
              "      <td>430.445169</td>\n",
              "    </tr>\n",
              "    <tr>\n",
              "      <th>13</th>\n",
              "      <td>370.579987</td>\n",
              "      <td>370.425591</td>\n",
              "    </tr>\n",
              "    <tr>\n",
              "      <th>14</th>\n",
              "      <td>1740.479980</td>\n",
              "      <td>1745.492692</td>\n",
              "    </tr>\n",
              "    <tr>\n",
              "      <th>15</th>\n",
              "      <td>1641.030029</td>\n",
              "      <td>1626.350503</td>\n",
              "    </tr>\n",
              "    <tr>\n",
              "      <th>16</th>\n",
              "      <td>1943.050049</td>\n",
              "      <td>1936.350888</td>\n",
              "    </tr>\n",
              "    <tr>\n",
              "      <th>17</th>\n",
              "      <td>1663.540039</td>\n",
              "      <td>1692.283390</td>\n",
              "    </tr>\n",
              "    <tr>\n",
              "      <th>18</th>\n",
              "      <td>899.200012</td>\n",
              "      <td>902.428819</td>\n",
              "    </tr>\n",
              "    <tr>\n",
              "      <th>19</th>\n",
              "      <td>1689.150024</td>\n",
              "      <td>1724.997770</td>\n",
              "    </tr>\n",
              "  </tbody>\n",
              "</table>\n",
              "</div>"
            ],
            "text/plain": [
              "         Actual    Predicted\n",
              "0   1858.000000  1866.063683\n",
              "1   2150.800049  2168.297560\n",
              "2   1591.910034  1600.644591\n",
              "3    575.020020   582.709579\n",
              "4   3499.120117  3491.770969\n",
              "5    785.409973   783.944060\n",
              "6    389.799988   391.667728\n",
              "7    717.510010   712.292681\n",
              "8   1640.260010  1642.988783\n",
              "9   1641.089966  1629.457093\n",
              "10  1429.949951  1445.434930\n",
              "11  1517.959961  1517.237958\n",
              "12   429.920013   430.445169\n",
              "13   370.579987   370.425591\n",
              "14  1740.479980  1745.492692\n",
              "15  1641.030029  1626.350503\n",
              "16  1943.050049  1936.350888\n",
              "17  1663.540039  1692.283390\n",
              "18   899.200012   902.428819\n",
              "19  1689.150024  1724.997770"
            ]
          },
          "metadata": {},
          "execution_count": 9
        }
      ]
    },
    {
      "cell_type": "code",
      "metadata": {
        "colab": {
          "base_uri": "https://localhost:8080/"
        },
        "id": "Cs_YZ1M96IwW",
        "outputId": "05da0e81-0aea-425f-9613-0e74ce75e59e"
      },
      "source": [
        "import math\n",
        "print('Mean Absolute Error:',metrics.mean_absolute_error(y_test,y_pred))\n",
        "print('Mean Squared Error',metrics.mean_squared_error(y_test,y_pred))\n",
        "print('Root Mean Squared Error',math.sqrt(metrics.mean_squared_error(y_test,y_pred)))"
      ],
      "execution_count": 10,
      "outputs": [
        {
          "output_type": "stream",
          "text": [
            "Mean Absolute Error: 6.997388141641244\n",
            "Mean Squared Error 142.22998952705098\n",
            "Root Mean Squared Error 11.926021529707674\n"
          ],
          "name": "stdout"
        }
      ]
    },
    {
      "cell_type": "code",
      "metadata": {
        "id": "FBY_gbj46Kj-"
      },
      "source": [
        "graph=data.head(20)"
      ],
      "execution_count": 11,
      "outputs": []
    },
    {
      "cell_type": "code",
      "metadata": {
        "colab": {
          "base_uri": "https://localhost:8080/",
          "height": 285
        },
        "id": "I93fYaVR6MYD",
        "outputId": "1ba18c8f-76a5-4ef3-925f-e155bd42f814"
      },
      "source": [
        "graph.plot(kind='bar')"
      ],
      "execution_count": 12,
      "outputs": [
        {
          "output_type": "execute_result",
          "data": {
            "text/plain": [
              "<matplotlib.axes._subplots.AxesSubplot at 0x7fc8faad7810>"
            ]
          },
          "metadata": {},
          "execution_count": 12
        },
        {
          "output_type": "display_data",
          "data": {
            "image/png": "[encoded data removed]",
            "text/plain": [
              "<Figure size 432x288 with 1 Axes>"
            ]
          },
          "metadata": {
            "needs_background": "light"
          }
        }
      ]
    },
    {
      "cell_type": "code",
      "metadata": {
        "id": "THLouOHp8Vtp"
      },
      "source": [
        "hi=input(\"Enter the maximum price of the share today: \")\n",
        "lo=input(\"Enter the close price at which the stock is traded today: \")\n",
        "op=input(\"Enter the open price at which the stock is traded today: \")\n",
        "vol=input(\"Enter number of shares sold that day: \")"
      ],
      "execution_count": null,
      "outputs": []
    },
    {
      "cell_type": "code",
      "metadata": {
        "id": "Vs2B-2-q8X_z"
      },
      "source": [
        "inp=([[hi,lo,op,vol]])"
      ],
      "execution_count": null,
      "outputs": []
    },
    {
      "cell_type": "code",
      "metadata": {
        "id": "OqL679Nl6V8Y"
      },
      "source": [
        "output=lc.predict(inp)"
      ],
      "execution_count": null,
      "outputs": []
    }
  ]
}