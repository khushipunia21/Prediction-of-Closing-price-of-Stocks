{
  "nbformat": 4,
  "nbformat_minor": 0,
  "metadata": {
    "colab": {
      "name": "google.ipynb",
      "provenance": []
    },
    "kernelspec": {
      "name": "python3",
      "display_name": "Python 3"
    },
    "language_info": {
      "name": "python"
    }
  },
  "cells": [
    {
      "cell_type": "code",
      "metadata": {
        "colab": {
          "base_uri": "https://localhost:8080/"
        },
        "id": "uTe8WXab5zRS",
        "outputId": "252f3684-b125-44a4-b236-07ea83be99f5"
      },
      "source": [
        "import pandas as pd\n",
        "\n",
        "import datetime\n",
        "\n",
        "import numpy as np\n",
        "\n",
        "import matplotlib.pyplot as plt\n",
        "\n",
        "from pandas.plotting import scatter_matrix\n",
        "\n",
        "!pip install yfinance\n",
        "\n",
        "import yfinance as yf\n",
        "\n",
        "%matplotlib inline\n",
        "from sklearn import preprocessing\n",
        "from sklearn import metrics\n",
        "from sklearn.model_selection import train_test_split\n",
        "from sklearn.linear_model import LinearRegression"
      ],
      "execution_count": 2,
      "outputs": [
        {
          "output_type": "stream",
          "text": [
            "Collecting yfinance\n",
            "  Downloading yfinance-0.1.63.tar.gz (26 kB)\n",
            "Requirement already satisfied: pandas>=0.24 in /usr/local/lib/python3.7/dist-packages (from yfinance) (1.1.5)\n",
            "Requirement already satisfied: numpy>=1.15 in /usr/local/lib/python3.7/dist-packages (from yfinance) (1.19.5)\n",
            "Requirement already satisfied: requests>=2.20 in /usr/local/lib/python3.7/dist-packages (from yfinance) (2.23.0)\n",
            "Requirement already satisfied: multitasking>=0.0.7 in /usr/local/lib/python3.7/dist-packages (from yfinance) (0.0.9)\n",
            "Collecting lxml>=4.5.1\n",
            "  Downloading lxml-4.6.3-cp37-cp37m-manylinux2014_x86_64.whl (6.3 MB)\n",
            "\u001b[K     |████████████████████████████████| 6.3 MB 12.5 MB/s \n",
            "\u001b[?25hRequirement already satisfied: python-dateutil>=2.7.3 in /usr/local/lib/python3.7/dist-packages (from pandas>=0.24->yfinance) (2.8.2)\n",
            "Requirement already satisfied: pytz>=2017.2 in /usr/local/lib/python3.7/dist-packages (from pandas>=0.24->yfinance) (2018.9)\n",
            "Requirement already satisfied: six>=1.5 in /usr/local/lib/python3.7/dist-packages (from python-dateutil>=2.7.3->pandas>=0.24->yfinance) (1.15.0)\n",
            "Requirement already satisfied: idna<3,>=2.5 in /usr/local/lib/python3.7/dist-packages (from requests>=2.20->yfinance) (2.10)\n",
            "Requirement already satisfied: certifi>=2017.4.17 in /usr/local/lib/python3.7/dist-packages (from requests>=2.20->yfinance) (2021.5.30)\n",
            "Requirement already satisfied: chardet<4,>=3.0.2 in /usr/local/lib/python3.7/dist-packages (from requests>=2.20->yfinance) (3.0.4)\n",
            "Requirement already satisfied: urllib3!=1.25.0,!=1.25.1,<1.26,>=1.21.1 in /usr/local/lib/python3.7/dist-packages (from requests>=2.20->yfinance) (1.24.3)\n",
            "Building wheels for collected packages: yfinance\n",
            "  Building wheel for yfinance (setup.py) ... \u001b[?25l\u001b[?25hdone\n",
            "  Created wheel for yfinance: filename=yfinance-0.1.63-py2.py3-none-any.whl size=23918 sha256=b375e5aad9de1fd63951ee174bd854fb4e2616ccad3b4c3ac4f378758111c810\n",
            "  Stored in directory: /root/.cache/pip/wheels/fe/87/8b/7ec24486e001d3926537f5f7801f57a74d181be25b11157983\n",
            "Successfully built yfinance\n",
            "Installing collected packages: lxml, yfinance\n",
            "  Attempting uninstall: lxml\n",
            "    Found existing installation: lxml 4.2.6\n",
            "    Uninstalling lxml-4.2.6:\n",
            "      Successfully uninstalled lxml-4.2.6\n",
            "Successfully installed lxml-4.6.3 yfinance-0.1.63\n"
          ],
          "name": "stdout"
        }
      ]
    },
    {
      "cell_type": "code",
      "metadata": {
        "colab": {
          "base_uri": "https://localhost:8080/"
        },
        "id": "_66DiRp55zy_",
        "outputId": "2f596ed6-092f-4eb3-cf15-11a515a1bea7"
      },
      "source": [
        "start = \"2015-01-01\"\n",
        "end = '2021-07-01'\n",
        "google=yf.download('goog',start,end)"
      ],
      "execution_count": 13,
      "outputs": [
        {
          "output_type": "stream",
          "text": [
            "\r[*********************100%***********************]  1 of 1 completed\n"
          ],
          "name": "stdout"
        }
      ]
    },
    {
      "cell_type": "code",
      "metadata": {
        "colab": {
          "base_uri": "https://localhost:8080/",
          "height": 234
        },
        "id": "MujpNmiD51eq",
        "outputId": "4e6d74f0-bd6e-4fb3-f82d-bb72b01f940c"
      },
      "source": [
        "google.head()"
      ],
      "execution_count": 14,
      "outputs": [
        {
          "output_type": "execute_result",
          "data": {
            "text/html": [
              "<div>\n",
              "<style scoped>\n",
              "    .dataframe tbody tr th:only-of-type {\n",
              "        vertical-align: middle;\n",
              "    }\n",
              "\n",
              "    .dataframe tbody tr th {\n",
              "        vertical-align: top;\n",
              "    }\n",
              "\n",
              "    .dataframe thead th {\n",
              "        text-align: right;\n",
              "    }\n",
              "</style>\n",
              "<table border=\"1\" class=\"dataframe\">\n",
              "  <thead>\n",
              "    <tr style=\"text-align: right;\">\n",
              "      <th></th>\n",
              "      <th>Open</th>\n",
              "      <th>High</th>\n",
              "      <th>Low</th>\n",
              "      <th>Close</th>\n",
              "      <th>Adj Close</th>\n",
              "      <th>Volume</th>\n",
              "    </tr>\n",
              "    <tr>\n",
              "      <th>Date</th>\n",
              "      <th></th>\n",
              "      <th></th>\n",
              "      <th></th>\n",
              "      <th></th>\n",
              "      <th></th>\n",
              "      <th></th>\n",
              "    </tr>\n",
              "  </thead>\n",
              "  <tbody>\n",
              "    <tr>\n",
              "      <th>2015-01-02</th>\n",
              "      <td>527.561584</td>\n",
              "      <td>529.815369</td>\n",
              "      <td>522.665039</td>\n",
              "      <td>523.373108</td>\n",
              "      <td>523.373108</td>\n",
              "      <td>1447563</td>\n",
              "    </tr>\n",
              "    <tr>\n",
              "      <th>2015-01-05</th>\n",
              "      <td>521.827332</td>\n",
              "      <td>522.894409</td>\n",
              "      <td>511.655243</td>\n",
              "      <td>512.463013</td>\n",
              "      <td>512.463013</td>\n",
              "      <td>2059840</td>\n",
              "    </tr>\n",
              "    <tr>\n",
              "      <th>2015-01-06</th>\n",
              "      <td>513.589966</td>\n",
              "      <td>514.761719</td>\n",
              "      <td>499.678131</td>\n",
              "      <td>500.585632</td>\n",
              "      <td>500.585632</td>\n",
              "      <td>2899940</td>\n",
              "    </tr>\n",
              "    <tr>\n",
              "      <th>2015-01-07</th>\n",
              "      <td>505.611847</td>\n",
              "      <td>505.855164</td>\n",
              "      <td>498.281952</td>\n",
              "      <td>499.727997</td>\n",
              "      <td>499.727997</td>\n",
              "      <td>2065054</td>\n",
              "    </tr>\n",
              "    <tr>\n",
              "      <th>2015-01-08</th>\n",
              "      <td>496.626526</td>\n",
              "      <td>502.101471</td>\n",
              "      <td>489.655640</td>\n",
              "      <td>501.303680</td>\n",
              "      <td>501.303680</td>\n",
              "      <td>3353582</td>\n",
              "    </tr>\n",
              "  </tbody>\n",
              "</table>\n",
              "</div>"
            ],
            "text/plain": [
              "                  Open        High         Low       Close   Adj Close   Volume\n",
              "Date                                                                           \n",
              "2015-01-02  527.561584  529.815369  522.665039  523.373108  523.373108  1447563\n",
              "2015-01-05  521.827332  522.894409  511.655243  512.463013  512.463013  2059840\n",
              "2015-01-06  513.589966  514.761719  499.678131  500.585632  500.585632  2899940\n",
              "2015-01-07  505.611847  505.855164  498.281952  499.727997  499.727997  2065054\n",
              "2015-01-08  496.626526  502.101471  489.655640  501.303680  501.303680  3353582"
            ]
          },
          "metadata": {},
          "execution_count": 14
        }
      ]
    },
    {
      "cell_type": "code",
      "metadata": {
        "id": "a5zc3onb57u9"
      },
      "source": [
        "x = google[['High','Low','Open','Volume']].values\n",
        "y = google['Close'].values"
      ],
      "execution_count": 15,
      "outputs": []
    },
    {
      "cell_type": "code",
      "metadata": {
        "colab": {
          "base_uri": "https://localhost:8080/"
        },
        "id": "9qCcUcEs5_iO",
        "outputId": "ba3099ca-ce67-41bc-b4ba-e159a520f216"
      },
      "source": [
        "x_train,x_test,y_train,y_test=train_test_split(x,y,test_size=0.2,random_state=1)\n",
        "lc=LinearRegression()\n",
        "lc.fit(x_train,y_train)"
      ],
      "execution_count": 16,
      "outputs": [
        {
          "output_type": "execute_result",
          "data": {
            "text/plain": [
              "LinearRegression(copy_X=True, fit_intercept=True, n_jobs=None, normalize=False)"
            ]
          },
          "metadata": {},
          "execution_count": 16
        }
      ]
    },
    {
      "cell_type": "code",
      "metadata": {
        "id": "28C_VKT_6ChD"
      },
      "source": [
        "y_pred=lc.predict(x_test)"
      ],
      "execution_count": 17,
      "outputs": []
    },
    {
      "cell_type": "code",
      "metadata": {
        "colab": {
          "base_uri": "https://localhost:8080/"
        },
        "id": "DaLyoaxQ6EP8",
        "outputId": "08763df0-f256-404d-c38e-a9e893fd3add"
      },
      "source": [
        "y_pred"
      ],
      "execution_count": 18,
      "outputs": [
        {
          "output_type": "execute_result",
          "data": {
            "text/plain": [
              "array([1454.92672402, 1521.29960715, 1053.04391425,  709.8063095 ,\n",
              "       1656.25865241,  782.67606599,  536.60154103,  707.54665636,\n",
              "       1124.5945131 , 1111.39789145, 1111.36787132, 1035.41919865,\n",
              "        532.26344698,  549.01767708, 1320.4105743 , 1036.67865481,\n",
              "       1256.58374385, 1075.03132409,  839.49760315, 1123.09187061,\n",
              "       1168.03459555,  770.65728081,  729.93251579, 2111.14119466,\n",
              "        827.77921705,  927.72465897,  782.71649619, 1420.21403213,\n",
              "       1022.0448362 ,  822.04692993,  663.30201759,  741.76964834,\n",
              "        941.81094511,  714.77231062,  758.824     , 1438.72255063,\n",
              "       1071.75929848, 1185.42636298, 1066.86505729, 1222.52817928,\n",
              "       1475.05948312, 1183.2333633 ,  912.47359625,  952.43415342,\n",
              "        528.91007647,  641.50881548, 1481.78599564,  843.54419098,\n",
              "        771.43958828, 1260.35418691, 1905.59593172,  750.39728425,\n",
              "        604.36986007, 1242.22265702,  957.5605729 , 1575.97243374,\n",
              "       1125.89615659, 1354.95178531,  922.77099142,  994.2354725 ,\n",
              "       1193.74854708,  587.42077806, 1388.13800294,  994.2771642 ,\n",
              "       1171.19072164, 1068.49474762,  701.11315227,  537.35028001,\n",
              "        550.12702227,  825.48986534,  796.05939759,  499.17350094,\n",
              "       1169.49314631,  649.32030418,  766.09087071,  685.19009246,\n",
              "        831.96918193, 2417.09456113,  525.80937584, 1080.07360391,\n",
              "        915.44923037,  807.88042817, 1182.98542765,  776.2021023 ,\n",
              "        734.09297332, 1432.8176988 , 1918.50310686, 2060.15799422,\n",
              "       1039.57578434,  799.85434834, 1402.80411495,  685.3990776 ,\n",
              "       1352.51922974, 1057.56827896,  628.89096654,  646.18623871,\n",
              "        712.03454613, 1137.13972879,  962.4196402 ,  929.71717282,\n",
              "       1495.51671777, 1174.12374038,  740.80595253, 2331.55729984,\n",
              "       1162.68416914, 1535.56755515,  909.59921729,  980.52220976,\n",
              "       1036.89042314,  708.39194576, 1386.74076954, 1173.35748748,\n",
              "        541.75899312, 1111.11488047, 1489.8746174 ,  785.92949438,\n",
              "        524.18000507, 1109.35518997, 2031.699822  , 1778.80955365,\n",
              "        741.45633808, 1445.97693297,  500.51655871,  808.32820401,\n",
              "       1242.85603263,  927.14769659,  767.00898345,  558.57371384,\n",
              "       1274.44132238,  766.62517893,  772.59486909, 1311.76077512,\n",
              "       2087.41688095,  774.89333307,  702.45206703,  708.56276201,\n",
              "        526.01635932,  964.38781267,  825.42336978, 1208.99512686,\n",
              "       1257.26254366,  536.94950895, 1238.26386257, 1216.84682803,\n",
              "       1456.92464244,  813.51886929,  543.82284454, 1446.32122205,\n",
              "       1431.39564279, 1406.78160887,  734.43446321, 1224.22206016,\n",
              "        969.42416421,  550.92614522,  701.28600755,  965.15886458,\n",
              "       1173.64328832, 1597.3432593 , 1124.32628982, 1070.87430378,\n",
              "       1137.8002995 , 1163.69267593, 1166.92332363,  829.45990032,\n",
              "        738.65048622, 1115.20859029, 1032.63018698, 1199.14539411,\n",
              "       1170.25814993, 1101.00914957,  735.67241125,  758.62719966,\n",
              "       1093.48615842, 1380.11575763,  550.6991164 , 1041.10869085,\n",
              "       1059.2057079 ,  534.13111104, 2405.27349917,  952.90541649,\n",
              "       1825.73119289,  925.60310614,  728.20411032, 1198.33272502,\n",
              "        531.75355486, 1073.1116502 ,  793.2008472 ,  815.6530801 ,\n",
              "        618.72742044, 1115.2742263 ,  919.80085125, 1442.83086744,\n",
              "       1112.20596922,  775.98529694,  635.48641182, 1429.34372923,\n",
              "        732.24885539,  725.7255395 , 1200.3044805 , 1429.19926192,\n",
              "        789.82544553, 1002.2899146 , 1095.72620441, 1439.42230399,\n",
              "        763.34860218,  637.16141966,  922.54292356,  724.23990287,\n",
              "        971.51278017,  930.17955096, 1056.13201615,  940.24874514,\n",
              "        549.94324496, 1022.79464263, 1344.30305156, 2099.73656728,\n",
              "       1031.56858788,  829.49224885,  787.03007477, 1021.54005382,\n",
              "        697.74244025, 1247.39983025,  780.37755129,  982.33602938,\n",
              "       1747.84893253,  723.62586088, 1091.04140258,  918.04154596,\n",
              "       1260.4634932 , 1226.58223477,  537.14989624,  776.55712013,\n",
              "       1244.25339229, 1760.77251165, 1345.92520434,  935.72724484,\n",
              "        955.32718326, 1041.69363638,  608.42372315,  697.91562881,\n",
              "       1536.44802689, 1304.97240346, 2122.96087481, 1754.76321551,\n",
              "       1841.47459047, 1088.32557686, 1112.37691159, 1235.31121946,\n",
              "       1052.43232247,  929.50979745, 1046.57367609, 1298.48000012,\n",
              "       1128.32012344,  832.70725907,  759.51645307,  939.64614358,\n",
              "       1171.68828014,  716.71829241,  541.04073546,  745.99923969,\n",
              "       1031.35030693,  832.80670868,  524.72220194,  708.93513854,\n",
              "       2099.55331386, 1121.31295163, 1131.201683  , 1482.33861284,\n",
              "        810.3485672 , 1209.37199421, 1137.9455599 ,  533.05310146,\n",
              "        771.94078067, 1549.42525914,  552.81682067,  708.81583382,\n",
              "       2332.15904536, 1885.92580313,  842.40264706, 1229.21504176,\n",
              "       1420.69075434, 1031.4030725 ,  775.55982038,  550.67723825,\n",
              "        538.97204942, 1755.88355581, 1147.53855294, 1136.31519813,\n",
              "       1171.8349524 , 1051.62066722, 1162.51700473, 1091.93588912,\n",
              "       1333.46361501, 1496.94184456, 1020.58871392,  954.32553585,\n",
              "       1505.64437997, 2082.61284486, 1069.07843787, 2039.57054076,\n",
              "       1085.16297827,  752.15825223, 1317.67321906, 1335.98072509,\n",
              "       2081.04745271,  701.14393093,  831.54766477,  697.07551763,\n",
              "       1087.64906574, 1758.85493373,  786.78224958,  923.12829947,\n",
              "       1607.76321918,  714.59354045, 1358.14809192,  720.64043363,\n",
              "       1775.81781171,  935.072158  ,  539.45736401, 1349.80243809,\n",
              "        835.11414825,  821.31497742, 1287.51700761,  798.27983482,\n",
              "        953.84933445, 1104.74979154,  929.65808453])"
            ]
          },
          "metadata": {},
          "execution_count": 18
        }
      ]
    },
    {
      "cell_type": "code",
      "metadata": {
        "colab": {
          "base_uri": "https://localhost:8080/",
          "height": 665
        },
        "id": "RG6R4KAv6GOs",
        "outputId": "b8f8042a-863e-4ad5-ecca-aa6d195b6798"
      },
      "source": [
        "data=pd.DataFrame({'Actual':y_test.flatten(),'Predicted':y_pred.flatten()})\n",
        "data.head(20)"
      ],
      "execution_count": 19,
      "outputs": [
        {
          "output_type": "execute_result",
          "data": {
            "text/html": [
              "<div>\n",
              "<style scoped>\n",
              "    .dataframe tbody tr th:only-of-type {\n",
              "        vertical-align: middle;\n",
              "    }\n",
              "\n",
              "    .dataframe tbody tr th {\n",
              "        vertical-align: top;\n",
              "    }\n",
              "\n",
              "    .dataframe thead th {\n",
              "        text-align: right;\n",
              "    }\n",
              "</style>\n",
              "<table border=\"1\" class=\"dataframe\">\n",
              "  <thead>\n",
              "    <tr style=\"text-align: right;\">\n",
              "      <th></th>\n",
              "      <th>Actual</th>\n",
              "      <th>Predicted</th>\n",
              "    </tr>\n",
              "  </thead>\n",
              "  <tbody>\n",
              "    <tr>\n",
              "      <th>0</th>\n",
              "      <td>1458.630005</td>\n",
              "      <td>1454.926724</td>\n",
              "    </tr>\n",
              "    <tr>\n",
              "      <th>1</th>\n",
              "      <td>1508.790039</td>\n",
              "      <td>1521.299607</td>\n",
              "    </tr>\n",
              "    <tr>\n",
              "      <th>2</th>\n",
              "      <td>1042.099976</td>\n",
              "      <td>1053.043914</td>\n",
              "    </tr>\n",
              "    <tr>\n",
              "      <th>3</th>\n",
              "      <td>706.590027</td>\n",
              "      <td>709.806310</td>\n",
              "    </tr>\n",
              "    <tr>\n",
              "      <th>4</th>\n",
              "      <td>1660.709961</td>\n",
              "      <td>1656.258652</td>\n",
              "    </tr>\n",
              "    <tr>\n",
              "      <th>5</th>\n",
              "      <td>783.609985</td>\n",
              "      <td>782.676066</td>\n",
              "    </tr>\n",
              "    <tr>\n",
              "      <th>6</th>\n",
              "      <td>537.888245</td>\n",
              "      <td>536.601541</td>\n",
              "    </tr>\n",
              "    <tr>\n",
              "      <th>7</th>\n",
              "      <td>710.359985</td>\n",
              "      <td>707.546656</td>\n",
              "    </tr>\n",
              "    <tr>\n",
              "      <th>8</th>\n",
              "      <td>1115.229980</td>\n",
              "      <td>1124.594513</td>\n",
              "    </tr>\n",
              "    <tr>\n",
              "      <th>9</th>\n",
              "      <td>1116.050049</td>\n",
              "      <td>1111.397891</td>\n",
              "    </tr>\n",
              "    <tr>\n",
              "      <th>10</th>\n",
              "      <td>1111.900024</td>\n",
              "      <td>1111.367871</td>\n",
              "    </tr>\n",
              "    <tr>\n",
              "      <th>11</th>\n",
              "      <td>1040.040039</td>\n",
              "      <td>1035.419199</td>\n",
              "    </tr>\n",
              "    <tr>\n",
              "      <th>12</th>\n",
              "      <td>532.330017</td>\n",
              "      <td>532.263447</td>\n",
              "    </tr>\n",
              "    <tr>\n",
              "      <th>13</th>\n",
              "      <td>545.821472</td>\n",
              "      <td>549.017677</td>\n",
              "    </tr>\n",
              "    <tr>\n",
              "      <th>14</th>\n",
              "      <td>1328.130005</td>\n",
              "      <td>1320.410574</td>\n",
              "    </tr>\n",
              "    <tr>\n",
              "      <th>15</th>\n",
              "      <td>1039.550049</td>\n",
              "      <td>1036.678655</td>\n",
              "    </tr>\n",
              "    <tr>\n",
              "      <th>16</th>\n",
              "      <td>1250.410034</td>\n",
              "      <td>1256.583744</td>\n",
              "    </tr>\n",
              "    <tr>\n",
              "      <th>17</th>\n",
              "      <td>1063.680054</td>\n",
              "      <td>1075.031324</td>\n",
              "    </tr>\n",
              "    <tr>\n",
              "      <th>18</th>\n",
              "      <td>838.210022</td>\n",
              "      <td>839.497603</td>\n",
              "    </tr>\n",
              "    <tr>\n",
              "      <th>19</th>\n",
              "      <td>1084.329956</td>\n",
              "      <td>1123.091871</td>\n",
              "    </tr>\n",
              "  </tbody>\n",
              "</table>\n",
              "</div>"
            ],
            "text/plain": [
              "         Actual    Predicted\n",
              "0   1458.630005  1454.926724\n",
              "1   1508.790039  1521.299607\n",
              "2   1042.099976  1053.043914\n",
              "3    706.590027   709.806310\n",
              "4   1660.709961  1656.258652\n",
              "5    783.609985   782.676066\n",
              "6    537.888245   536.601541\n",
              "7    710.359985   707.546656\n",
              "8   1115.229980  1124.594513\n",
              "9   1116.050049  1111.397891\n",
              "10  1111.900024  1111.367871\n",
              "11  1040.040039  1035.419199\n",
              "12   532.330017   532.263447\n",
              "13   545.821472   549.017677\n",
              "14  1328.130005  1320.410574\n",
              "15  1039.550049  1036.678655\n",
              "16  1250.410034  1256.583744\n",
              "17  1063.680054  1075.031324\n",
              "18   838.210022   839.497603\n",
              "19  1084.329956  1123.091871"
            ]
          },
          "metadata": {},
          "execution_count": 19
        }
      ]
    },
    {
      "cell_type": "code",
      "metadata": {
        "colab": {
          "base_uri": "https://localhost:8080/"
        },
        "id": "Cs_YZ1M96IwW",
        "outputId": "b9b38e4d-d4d5-48f6-de3a-8be7f1432c2d"
      },
      "source": [
        "import math\n",
        "print('Mean Absolute Error:',metrics.mean_absolute_error(y_test,y_pred))\n",
        "print('Mean Squared Error',metrics.mean_squared_error(y_test,y_pred))\n",
        "print('Root Mean Squared Error',math.sqrt(metrics.mean_squared_error(y_test,y_pred)))"
      ],
      "execution_count": 20,
      "outputs": [
        {
          "output_type": "stream",
          "text": [
            "Mean Absolute Error: 5.035817399063917\n",
            "Mean Squared Error 57.402797463686404\n",
            "Root Mean Squared Error 7.576463387602847\n"
          ],
          "name": "stdout"
        }
      ]
    },
    {
      "cell_type": "code",
      "metadata": {
        "id": "FBY_gbj46Kj-"
      },
      "source": [
        "graph=data.head(20)"
      ],
      "execution_count": 21,
      "outputs": []
    },
    {
      "cell_type": "code",
      "metadata": {
        "colab": {
          "base_uri": "https://localhost:8080/",
          "height": 285
        },
        "id": "I93fYaVR6MYD",
        "outputId": "736fb669-23a9-4a22-e359-b029e36ccbc3"
      },
      "source": [
        "graph.plot(kind='bar')"
      ],
      "execution_count": 22,
      "outputs": [
        {
          "output_type": "execute_result",
          "data": {
            "text/plain": [
              "<matplotlib.axes._subplots.AxesSubplot at 0x7fc8fd615550>"
            ]
          },
          "metadata": {},
          "execution_count": 22
        },
        {
          "output_type": "display_data",
          "data": {
            "image/png": "[encoded data removed]",
            "text/plain": [
              "<Figure size 432x288 with 1 Axes>"
            ]
          },
          "metadata": {
            "needs_background": "light"
          }
        }
      ]
    },
    {
      "cell_type": "code",
      "metadata": {
        "id": "THLouOHp8Vtp"
      },
      "source": [
        "hi=input(\"Enter the maximum price of the share today: \")\n",
        "lo=input(\"Enter the close price at which the stock is traded today: \")\n",
        "op=input(\"Enter the open price at which the stock is traded today: \")\n",
        "vol=input(\"Enter number of shares sold that day: \")"
      ],
      "execution_count": null,
      "outputs": []
    },
    {
      "cell_type": "code",
      "metadata": {
        "id": "Vs2B-2-q8X_z"
      },
      "source": [
        "inp=([[hi,lo,op,vol]])"
      ],
      "execution_count": null,
      "outputs": []
    },
    {
      "cell_type": "code",
      "metadata": {
        "id": "OqL679Nl6V8Y"
      },
      "source": [
        "output=lc.predict(inp)"
      ],
      "execution_count": null,
      "outputs": []
    }
  ]
}